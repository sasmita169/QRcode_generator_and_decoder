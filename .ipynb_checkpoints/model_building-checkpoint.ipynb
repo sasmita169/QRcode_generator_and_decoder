{
 "cells": [
  {
   "cell_type": "markdown",
   "metadata": {
    "colab_type": "text",
    "id": "4q9XG_lYfqd2"
   },
   "source": [
    "#Dataset 1"
   ]
  },
  {
   "cell_type": "markdown",
   "metadata": {
    "colab_type": "text",
    "id": "hoIvQtcvOiYB"
   },
   "source": [
    "##Reading Dataset"
   ]
  },
  {
   "cell_type": "code",
   "execution_count": 45,
   "metadata": {
    "colab": {
     "base_uri": "https://localhost:8080/",
     "height": 424
    },
    "colab_type": "code",
    "id": "t9DHU4au4lKN",
    "outputId": "4b5c8394-3135-4c26-f852-73f42aaa7f64"
   },
   "outputs": [
    {
     "data": {
      "text/html": [
       "<div>\n",
       "<style scoped>\n",
       "    .dataframe tbody tr th:only-of-type {\n",
       "        vertical-align: middle;\n",
       "    }\n",
       "\n",
       "    .dataframe tbody tr th {\n",
       "        vertical-align: top;\n",
       "    }\n",
       "\n",
       "    .dataframe thead th {\n",
       "        text-align: right;\n",
       "    }\n",
       "</style>\n",
       "<table border=\"1\" class=\"dataframe\">\n",
       "  <thead>\n",
       "    <tr style=\"text-align: right;\">\n",
       "      <th></th>\n",
       "      <th>Unnamed: 0</th>\n",
       "      <th>Airline</th>\n",
       "      <th>Source</th>\n",
       "      <th>Destination</th>\n",
       "      <th>Price</th>\n",
       "      <th>Day_of_Week</th>\n",
       "      <th>day</th>\n",
       "      <th>month</th>\n",
       "      <th>year</th>\n",
       "      <th>Season</th>\n",
       "      <th>Duration_in_minutes</th>\n",
       "      <th>total_stops</th>\n",
       "    </tr>\n",
       "  </thead>\n",
       "  <tbody>\n",
       "    <tr>\n",
       "      <th>0</th>\n",
       "      <td>0</td>\n",
       "      <td>IndiGo</td>\n",
       "      <td>Banglore</td>\n",
       "      <td>New Delhi</td>\n",
       "      <td>3897</td>\n",
       "      <td>Sunday</td>\n",
       "      <td>24</td>\n",
       "      <td>3</td>\n",
       "      <td>2019</td>\n",
       "      <td>Spring</td>\n",
       "      <td>170</td>\n",
       "      <td>0.0</td>\n",
       "    </tr>\n",
       "    <tr>\n",
       "      <th>1</th>\n",
       "      <td>1</td>\n",
       "      <td>Air India</td>\n",
       "      <td>Kolkata</td>\n",
       "      <td>Banglore</td>\n",
       "      <td>7662</td>\n",
       "      <td>Wednesday</td>\n",
       "      <td>1</td>\n",
       "      <td>5</td>\n",
       "      <td>2019</td>\n",
       "      <td>Spring</td>\n",
       "      <td>445</td>\n",
       "      <td>2.0</td>\n",
       "    </tr>\n",
       "    <tr>\n",
       "      <th>2</th>\n",
       "      <td>2</td>\n",
       "      <td>Jet Airways</td>\n",
       "      <td>Delhi</td>\n",
       "      <td>Cochin</td>\n",
       "      <td>13882</td>\n",
       "      <td>Sunday</td>\n",
       "      <td>9</td>\n",
       "      <td>6</td>\n",
       "      <td>2019</td>\n",
       "      <td>Summer</td>\n",
       "      <td>1140</td>\n",
       "      <td>2.0</td>\n",
       "    </tr>\n",
       "    <tr>\n",
       "      <th>3</th>\n",
       "      <td>3</td>\n",
       "      <td>IndiGo</td>\n",
       "      <td>Kolkata</td>\n",
       "      <td>Banglore</td>\n",
       "      <td>6218</td>\n",
       "      <td>Sunday</td>\n",
       "      <td>12</td>\n",
       "      <td>5</td>\n",
       "      <td>2019</td>\n",
       "      <td>Spring</td>\n",
       "      <td>325</td>\n",
       "      <td>1.0</td>\n",
       "    </tr>\n",
       "    <tr>\n",
       "      <th>4</th>\n",
       "      <td>4</td>\n",
       "      <td>IndiGo</td>\n",
       "      <td>Banglore</td>\n",
       "      <td>New Delhi</td>\n",
       "      <td>13302</td>\n",
       "      <td>Friday</td>\n",
       "      <td>1</td>\n",
       "      <td>3</td>\n",
       "      <td>2019</td>\n",
       "      <td>Spring</td>\n",
       "      <td>285</td>\n",
       "      <td>1.0</td>\n",
       "    </tr>\n",
       "    <tr>\n",
       "      <th>...</th>\n",
       "      <td>...</td>\n",
       "      <td>...</td>\n",
       "      <td>...</td>\n",
       "      <td>...</td>\n",
       "      <td>...</td>\n",
       "      <td>...</td>\n",
       "      <td>...</td>\n",
       "      <td>...</td>\n",
       "      <td>...</td>\n",
       "      <td>...</td>\n",
       "      <td>...</td>\n",
       "      <td>...</td>\n",
       "    </tr>\n",
       "    <tr>\n",
       "      <th>10678</th>\n",
       "      <td>10678</td>\n",
       "      <td>Air Asia</td>\n",
       "      <td>Kolkata</td>\n",
       "      <td>Banglore</td>\n",
       "      <td>4107</td>\n",
       "      <td>Tuesday</td>\n",
       "      <td>9</td>\n",
       "      <td>4</td>\n",
       "      <td>2019</td>\n",
       "      <td>Spring</td>\n",
       "      <td>150</td>\n",
       "      <td>0.0</td>\n",
       "    </tr>\n",
       "    <tr>\n",
       "      <th>10679</th>\n",
       "      <td>10679</td>\n",
       "      <td>Air India</td>\n",
       "      <td>Kolkata</td>\n",
       "      <td>Banglore</td>\n",
       "      <td>4145</td>\n",
       "      <td>Saturday</td>\n",
       "      <td>27</td>\n",
       "      <td>4</td>\n",
       "      <td>2019</td>\n",
       "      <td>Spring</td>\n",
       "      <td>155</td>\n",
       "      <td>0.0</td>\n",
       "    </tr>\n",
       "    <tr>\n",
       "      <th>10680</th>\n",
       "      <td>10680</td>\n",
       "      <td>Jet Airways</td>\n",
       "      <td>Banglore</td>\n",
       "      <td>Delhi</td>\n",
       "      <td>7229</td>\n",
       "      <td>Saturday</td>\n",
       "      <td>27</td>\n",
       "      <td>4</td>\n",
       "      <td>2019</td>\n",
       "      <td>Spring</td>\n",
       "      <td>180</td>\n",
       "      <td>0.0</td>\n",
       "    </tr>\n",
       "    <tr>\n",
       "      <th>10681</th>\n",
       "      <td>10681</td>\n",
       "      <td>Vistara</td>\n",
       "      <td>Banglore</td>\n",
       "      <td>New Delhi</td>\n",
       "      <td>12648</td>\n",
       "      <td>Friday</td>\n",
       "      <td>1</td>\n",
       "      <td>3</td>\n",
       "      <td>2019</td>\n",
       "      <td>Spring</td>\n",
       "      <td>160</td>\n",
       "      <td>0.0</td>\n",
       "    </tr>\n",
       "    <tr>\n",
       "      <th>10682</th>\n",
       "      <td>10682</td>\n",
       "      <td>Air India</td>\n",
       "      <td>Delhi</td>\n",
       "      <td>Cochin</td>\n",
       "      <td>11753</td>\n",
       "      <td>Thursday</td>\n",
       "      <td>9</td>\n",
       "      <td>5</td>\n",
       "      <td>2019</td>\n",
       "      <td>Spring</td>\n",
       "      <td>500</td>\n",
       "      <td>2.0</td>\n",
       "    </tr>\n",
       "  </tbody>\n",
       "</table>\n",
       "<p>10683 rows × 12 columns</p>\n",
       "</div>"
      ],
      "text/plain": [
       "       Unnamed: 0      Airline    Source Destination  Price Day_of_Week  day  \\\n",
       "0               0       IndiGo  Banglore   New Delhi   3897      Sunday   24   \n",
       "1               1    Air India   Kolkata    Banglore   7662   Wednesday    1   \n",
       "2               2  Jet Airways     Delhi      Cochin  13882      Sunday    9   \n",
       "3               3       IndiGo   Kolkata    Banglore   6218      Sunday   12   \n",
       "4               4       IndiGo  Banglore   New Delhi  13302      Friday    1   \n",
       "...           ...          ...       ...         ...    ...         ...  ...   \n",
       "10678       10678     Air Asia   Kolkata    Banglore   4107     Tuesday    9   \n",
       "10679       10679    Air India   Kolkata    Banglore   4145    Saturday   27   \n",
       "10680       10680  Jet Airways  Banglore       Delhi   7229    Saturday   27   \n",
       "10681       10681      Vistara  Banglore   New Delhi  12648      Friday    1   \n",
       "10682       10682    Air India     Delhi      Cochin  11753    Thursday    9   \n",
       "\n",
       "       month  year  Season  Duration_in_minutes  total_stops  \n",
       "0          3  2019  Spring                  170          0.0  \n",
       "1          5  2019  Spring                  445          2.0  \n",
       "2          6  2019  Summer                 1140          2.0  \n",
       "3          5  2019  Spring                  325          1.0  \n",
       "4          3  2019  Spring                  285          1.0  \n",
       "...      ...   ...     ...                  ...          ...  \n",
       "10678      4  2019  Spring                  150          0.0  \n",
       "10679      4  2019  Spring                  155          0.0  \n",
       "10680      4  2019  Spring                  180          0.0  \n",
       "10681      3  2019  Spring                  160          0.0  \n",
       "10682      5  2019  Spring                  500          2.0  \n",
       "\n",
       "[10683 rows x 12 columns]"
      ]
     },
     "execution_count": 45,
     "metadata": {},
     "output_type": "execute_result"
    }
   ],
   "source": [
    "import pandas as pd\n",
    "df = pd.read_csv('processed_dataset.csv')\n",
    "df"
   ]
  },
  {
   "cell_type": "code",
   "execution_count": null,
   "metadata": {},
   "outputs": [],
   "source": []
  },
  {
   "cell_type": "code",
   "execution_count": 46,
   "metadata": {},
   "outputs": [],
   "source": [
    "df.drop(\"Unnamed: 0\", axis=1, inplace=True)"
   ]
  },
  {
   "cell_type": "code",
   "execution_count": 47,
   "metadata": {},
   "outputs": [
    {
     "name": "stdout",
     "output_type": "stream",
     "text": [
      "<class 'pandas.core.frame.DataFrame'>\n",
      "RangeIndex: 10683 entries, 0 to 10682\n",
      "Data columns (total 11 columns):\n",
      " #   Column               Non-Null Count  Dtype  \n",
      "---  ------               --------------  -----  \n",
      " 0   Airline              10683 non-null  object \n",
      " 1   Source               10683 non-null  object \n",
      " 2   Destination          10683 non-null  object \n",
      " 3   Price                10683 non-null  int64  \n",
      " 4   Day_of_Week          10683 non-null  object \n",
      " 5   day                  10683 non-null  int64  \n",
      " 6   month                10683 non-null  int64  \n",
      " 7   year                 10683 non-null  int64  \n",
      " 8   Season               10683 non-null  object \n",
      " 9   Duration_in_minutes  10683 non-null  int64  \n",
      " 10  total_stops          10682 non-null  float64\n",
      "dtypes: float64(1), int64(5), object(5)\n",
      "memory usage: 918.2+ KB\n"
     ]
    }
   ],
   "source": [
    "df.info()   #columns and there data types "
   ]
  },
  {
   "cell_type": "code",
   "execution_count": 48,
   "metadata": {},
   "outputs": [
    {
     "data": {
      "text/plain": [
       "Index(['Airline', 'Source', 'Destination', 'Price', 'Day_of_Week', 'day',\n",
       "       'month', 'year', 'Season', 'Duration_in_minutes', 'total_stops'],\n",
       "      dtype='object')"
      ]
     },
     "execution_count": 48,
     "metadata": {},
     "output_type": "execute_result"
    }
   ],
   "source": [
    "df.columns\n"
   ]
  },
  {
   "cell_type": "code",
   "execution_count": 49,
   "metadata": {},
   "outputs": [
    {
     "data": {
      "text/plain": [
       "Airline                0\n",
       "Source                 0\n",
       "Destination            0\n",
       "Price                  0\n",
       "Day_of_Week            0\n",
       "day                    0\n",
       "month                  0\n",
       "year                   0\n",
       "Season                 0\n",
       "Duration_in_minutes    0\n",
       "total_stops            1\n",
       "dtype: int64"
      ]
     },
     "execution_count": 49,
     "metadata": {},
     "output_type": "execute_result"
    }
   ],
   "source": [
    "df.isnull().sum()"
   ]
  },
  {
   "cell_type": "code",
   "execution_count": 50,
   "metadata": {},
   "outputs": [],
   "source": [
    "df.dropna(inplace=True)\n"
   ]
  },
  {
   "cell_type": "code",
   "execution_count": 51,
   "metadata": {},
   "outputs": [
    {
     "name": "stdout",
     "output_type": "stream",
     "text": [
      "['Banglore' 'Kolkata' 'Delhi' 'Chennai' 'Mumbai']\n"
     ]
    }
   ],
   "source": [
    "unique_values = df['Source'].unique()\n",
    "\n",
    "print(unique_values)"
   ]
  },
  {
   "cell_type": "code",
   "execution_count": 52,
   "metadata": {},
   "outputs": [
    {
     "name": "stdout",
     "output_type": "stream",
     "text": [
      "['New Delhi' 'Banglore' 'Cochin' 'Kolkata' 'Delhi' 'Hyderabad']\n"
     ]
    }
   ],
   "source": [
    "unique_values1 = df['Destination'].unique()\n",
    "\n",
    "print(unique_values1)"
   ]
  },
  {
   "cell_type": "code",
   "execution_count": 53,
   "metadata": {},
   "outputs": [
    {
     "name": "stdout",
     "output_type": "stream",
     "text": [
      "      Source Destination     Distance\n",
      "0   Banglore   New Delhi  1733.705461\n",
      "1   Banglore    Banglore     0.000000\n",
      "2   Banglore      Cochin   360.523168\n",
      "3   Banglore     Kolkata  1562.399645\n",
      "4   Banglore       Delhi  1735.285777\n",
      "5   Banglore   Hyderabad   496.925194\n",
      "6    Kolkata   New Delhi  1304.222525\n",
      "7    Kolkata    Banglore  1562.399645\n",
      "8    Kolkata      Cochin  1901.269316\n",
      "9    Kolkata     Kolkata     0.000000\n",
      "10   Kolkata       Delhi  1308.144157\n",
      "11   Kolkata   Hyderabad  1184.543217\n",
      "12     Delhi   New Delhi     3.943417\n",
      "13     Delhi    Banglore  1735.285777\n",
      "14     Delhi      Cochin  2067.985155\n",
      "15     Delhi     Kolkata  1308.144157\n",
      "16     Delhi       Delhi     0.000000\n",
      "17     Delhi   Hyderabad  1254.847315\n",
      "18   Chennai   New Delhi  1748.515819\n",
      "19   Chennai    Banglore   294.599818\n",
      "20   Chennai      Cochin   558.161985\n",
      "21   Chennai     Kolkata  1355.300874\n",
      "22   Chennai       Delhi  1750.688589\n",
      "23   Chennai   Hyderabad   511.055118\n",
      "24    Mumbai   New Delhi  1157.015137\n",
      "25    Mumbai    Banglore   836.061342\n",
      "26    Mumbai      Cochin  1062.236363\n",
      "27    Mumbai     Kolkata  1665.071590\n",
      "28    Mumbai       Delhi  1156.931577\n",
      "29    Mumbai   Hyderabad   623.422170\n"
     ]
    }
   ],
   "source": [
    "import pandas as pd\n",
    "from geopy.geocoders import Nominatim\n",
    "from geopy.distance import geodesic\n",
    "\n",
    "# Lists of source and destination cities\n",
    "source_list = ['Banglore', 'Kolkata', 'Delhi', 'Chennai', 'Mumbai']\n",
    "destination_list = ['New Delhi', 'Banglore', 'Cochin', 'Kolkata', 'Delhi', 'Hyderabad']\n",
    "\n",
    "# Initialize the geolocator\n",
    "geolocator = Nominatim(user_agent=\"city_distance_calculator\")\n",
    "\n",
    "# Function to calculate distance between source and destination\n",
    "def calculate_distance(source, destination):\n",
    "    source_location = geolocator.geocode(source + ', India')\n",
    "    destination_location = geolocator.geocode(destination + ', India')\n",
    "    \n",
    "    if source_location is not None and destination_location is not None:\n",
    "        distance = geodesic((source_location.latitude, source_location.longitude), \n",
    "                            (destination_location.latitude, destination_location.longitude)).kilometers\n",
    "        return distance\n",
    "    else:\n",
    "        return None\n",
    "\n",
    "# Create a list to store the distances\n",
    "distances = []\n",
    "\n",
    "# Calculate distances for each combination of source and destination\n",
    "for source in source_list:\n",
    "    for destination in destination_list:\n",
    "        distance = calculate_distance(source, destination)\n",
    "        distances.append({'Source': source, 'Destination': destination, 'Distance': distance})\n",
    "\n",
    "# Create a DataFrame from the distances list\n",
    "df2 = pd.DataFrame(distances)\n",
    "\n",
    "print(df2)\n"
   ]
  },
  {
   "cell_type": "code",
   "execution_count": 54,
   "metadata": {},
   "outputs": [
    {
     "name": "stdout",
     "output_type": "stream",
     "text": [
      "           Airline    Source Destination  Price Day_of_Week  day  month  year  \\\n",
      "0           IndiGo  Banglore   New Delhi   3897      Sunday   24      3  2019   \n",
      "1        Air India   Kolkata    Banglore   7662   Wednesday    1      5  2019   \n",
      "2      Jet Airways     Delhi      Cochin  13882      Sunday    9      6  2019   \n",
      "3           IndiGo   Kolkata    Banglore   6218      Sunday   12      5  2019   \n",
      "4           IndiGo  Banglore   New Delhi  13302      Friday    1      3  2019   \n",
      "...            ...       ...         ...    ...         ...  ...    ...   ...   \n",
      "10678     Air Asia   Kolkata    Banglore   4107     Tuesday    9      4  2019   \n",
      "10679    Air India   Kolkata    Banglore   4145    Saturday   27      4  2019   \n",
      "10680  Jet Airways  Banglore       Delhi   7229    Saturday   27      4  2019   \n",
      "10681      Vistara  Banglore   New Delhi  12648      Friday    1      3  2019   \n",
      "10682    Air India     Delhi      Cochin  11753    Thursday    9      5  2019   \n",
      "\n",
      "       Season  Duration_in_minutes  total_stops     Distance  \n",
      "0      Spring                  170          0.0  1733.705461  \n",
      "1      Spring                  445          2.0  1562.399645  \n",
      "2      Summer                 1140          2.0  2067.985155  \n",
      "3      Spring                  325          1.0  1562.399645  \n",
      "4      Spring                  285          1.0  1733.705461  \n",
      "...       ...                  ...          ...          ...  \n",
      "10678  Spring                  150          0.0  1562.399645  \n",
      "10679  Spring                  155          0.0  1562.399645  \n",
      "10680  Spring                  180          0.0  1735.285777  \n",
      "10681  Spring                  160          0.0  1733.705461  \n",
      "10682  Spring                  500          2.0  2067.985155  \n",
      "\n",
      "[10682 rows x 12 columns]\n"
     ]
    }
   ],
   "source": [
    "import pandas as pd\n",
    "\n",
    "\n",
    "df =df\n",
    "df2 =df2\n",
    "\n",
    "# Create a dictionary mapping (source, destination) to distance\n",
    "distance_dict = {(row['Source'], row['Destination']): row['Distance'] for index, row in df2.iterrows()}\n",
    "\n",
    "# Update the 'distance' column in df based on the dictionary\n",
    "df['Distance'] = [distance_dict.get((source, dest), None) for source, dest in zip(df['Source'], df['Destination'])]\n",
    "\n",
    "# Display the updated df\n",
    "print(df)\n"
   ]
  },
  {
   "cell_type": "code",
   "execution_count": null,
   "metadata": {},
   "outputs": [],
   "source": []
  },
  {
   "cell_type": "code",
   "execution_count": 55,
   "metadata": {},
   "outputs": [],
   "source": [
    "import pandas as pd\n",
    "\n",
    "# Assuming 'df' is the DataFrame containing the 'Destination' column\n",
    "df['Destination'] = 'd_' + df['Destination'].astype(str)\n",
    "\n",
    "# If the 'Destination' column contains numerical values, you may need to convert them to strings first using .astype(str)\n"
   ]
  },
  {
   "cell_type": "markdown",
   "metadata": {},
   "source": [
    "Large, long-haul aircraft (e.g., Boeing 747, Airbus A380): Approximately 2.5 to 3.5 liters of fuel per passenger per kilometer.\n",
    "\n",
    "Medium-sized, single-aisle aircraft (e.g., Boeing 737, Airbus A320): Approximately 3.5 to 4.5 liters of fuel per passenger per kilometer.\n",
    "\n",
    "Smaller regional jets and turboprops: The fuel consumption can be higher, ranging from 4 to 6 liters of fuel per passenger per kilometer."
   ]
  },
  {
   "cell_type": "code",
   "execution_count": 56,
   "metadata": {},
   "outputs": [
    {
     "name": "stdout",
     "output_type": "stream",
     "text": [
      "           Airline    Source  Destination  Price Day_of_Week  day  month  \\\n",
      "0           IndiGo  Banglore  d_New Delhi   3897      Sunday   24      3   \n",
      "1        Air India   Kolkata   d_Banglore   7662   Wednesday    1      5   \n",
      "2      Jet Airways     Delhi     d_Cochin  13882      Sunday    9      6   \n",
      "3           IndiGo   Kolkata   d_Banglore   6218      Sunday   12      5   \n",
      "4           IndiGo  Banglore  d_New Delhi  13302      Friday    1      3   \n",
      "...            ...       ...          ...    ...         ...  ...    ...   \n",
      "10678     Air Asia   Kolkata   d_Banglore   4107     Tuesday    9      4   \n",
      "10679    Air India   Kolkata   d_Banglore   4145    Saturday   27      4   \n",
      "10680  Jet Airways  Banglore      d_Delhi   7229    Saturday   27      4   \n",
      "10681      Vistara  Banglore  d_New Delhi  12648      Friday    1      3   \n",
      "10682    Air India     Delhi     d_Cochin  11753    Thursday    9      5   \n",
      "\n",
      "       year  Season  Duration_in_minutes  total_stops     Distance  \\\n",
      "0      2019  Spring                  170          0.0  1733.705461   \n",
      "1      2019  Spring                  445          2.0  1562.399645   \n",
      "2      2019  Summer                 1140          2.0  2067.985155   \n",
      "3      2019  Spring                  325          1.0  1562.399645   \n",
      "4      2019  Spring                  285          1.0  1733.705461   \n",
      "...     ...     ...                  ...          ...          ...   \n",
      "10678  2019  Spring                  150          0.0  1562.399645   \n",
      "10679  2019  Spring                  155          0.0  1562.399645   \n",
      "10680  2019  Spring                  180          0.0  1735.285777   \n",
      "10681  2019  Spring                  160          0.0  1733.705461   \n",
      "10682  2019  Spring                  500          2.0  2067.985155   \n",
      "\n",
      "              Fuel  \n",
      "0      6067.969113  \n",
      "1      5468.398757  \n",
      "2      7237.948041  \n",
      "3      5468.398757  \n",
      "4      6067.969113  \n",
      "...            ...  \n",
      "10678  5468.398757  \n",
      "10679  5468.398757  \n",
      "10680  6073.500220  \n",
      "10681  6067.969113  \n",
      "10682  7237.948041  \n",
      "\n",
      "[10682 rows x 13 columns]\n"
     ]
    }
   ],
   "source": [
    "\n",
    "# Create a new column \"Fuel\" which is 3.5 times the value of \"Distance\"\n",
    "df['Fuel'] = df['Distance'] * 3.5\n",
    "\n",
    "print(df)\n"
   ]
  },
  {
   "cell_type": "code",
   "execution_count": null,
   "metadata": {},
   "outputs": [],
   "source": []
  },
  {
   "cell_type": "code",
   "execution_count": null,
   "metadata": {},
   "outputs": [],
   "source": []
  },
  {
   "cell_type": "code",
   "execution_count": 57,
   "metadata": {},
   "outputs": [],
   "source": [
    "df = pd.get_dummies(df, prefix=\"\", prefix_sep=\"\")"
   ]
  },
  {
   "cell_type": "code",
   "execution_count": 58,
   "metadata": {},
   "outputs": [
    {
     "name": "stdout",
     "output_type": "stream",
     "text": [
      "<class 'pandas.core.frame.DataFrame'>\n",
      "Int64Index: 10682 entries, 0 to 10682\n",
      "Data columns (total 40 columns):\n",
      " #   Column                             Non-Null Count  Dtype  \n",
      "---  ------                             --------------  -----  \n",
      " 0   Price                              10682 non-null  int64  \n",
      " 1   day                                10682 non-null  int64  \n",
      " 2   month                              10682 non-null  int64  \n",
      " 3   year                               10682 non-null  int64  \n",
      " 4   Duration_in_minutes                10682 non-null  int64  \n",
      " 5   total_stops                        10682 non-null  float64\n",
      " 6   Distance                           10682 non-null  float64\n",
      " 7   Fuel                               10682 non-null  float64\n",
      " 8   Air Asia                           10682 non-null  uint8  \n",
      " 9   Air India                          10682 non-null  uint8  \n",
      " 10  GoAir                              10682 non-null  uint8  \n",
      " 11  IndiGo                             10682 non-null  uint8  \n",
      " 12  Jet Airways                        10682 non-null  uint8  \n",
      " 13  Jet Airways Business               10682 non-null  uint8  \n",
      " 14  Multiple carriers                  10682 non-null  uint8  \n",
      " 15  Multiple carriers Premium economy  10682 non-null  uint8  \n",
      " 16  SpiceJet                           10682 non-null  uint8  \n",
      " 17  Trujet                             10682 non-null  uint8  \n",
      " 18  Vistara                            10682 non-null  uint8  \n",
      " 19  Vistara Premium economy            10682 non-null  uint8  \n",
      " 20  Banglore                           10682 non-null  uint8  \n",
      " 21  Chennai                            10682 non-null  uint8  \n",
      " 22  Delhi                              10682 non-null  uint8  \n",
      " 23  Kolkata                            10682 non-null  uint8  \n",
      " 24  Mumbai                             10682 non-null  uint8  \n",
      " 25  d_Banglore                         10682 non-null  uint8  \n",
      " 26  d_Cochin                           10682 non-null  uint8  \n",
      " 27  d_Delhi                            10682 non-null  uint8  \n",
      " 28  d_Hyderabad                        10682 non-null  uint8  \n",
      " 29  d_Kolkata                          10682 non-null  uint8  \n",
      " 30  d_New Delhi                        10682 non-null  uint8  \n",
      " 31  Friday                             10682 non-null  uint8  \n",
      " 32  Monday                             10682 non-null  uint8  \n",
      " 33  Saturday                           10682 non-null  uint8  \n",
      " 34  Sunday                             10682 non-null  uint8  \n",
      " 35  Thursday                           10682 non-null  uint8  \n",
      " 36  Tuesday                            10682 non-null  uint8  \n",
      " 37  Wednesday                          10682 non-null  uint8  \n",
      " 38  Spring                             10682 non-null  uint8  \n",
      " 39  Summer                             10682 non-null  uint8  \n",
      "dtypes: float64(3), int64(5), uint8(32)\n",
      "memory usage: 1.1 MB\n"
     ]
    }
   ],
   "source": [
    "df.info()"
   ]
  },
  {
   "cell_type": "markdown",
   "metadata": {
    "colab_type": "text",
    "id": "QvYtwmfjTkrM"
   },
   "source": [
    "##Corelation Heatmap"
   ]
  },
  {
   "cell_type": "code",
   "execution_count": 59,
   "metadata": {
    "colab": {
     "base_uri": "https://localhost:8080/",
     "height": 846
    },
    "colab_type": "code",
    "id": "-_tEdzxdTp-S",
    "outputId": "f45aaac2-cdff-426b-cb14-e98cdf332dbf"
   },
   "outputs": [
    {
     "data": {
      "image/png": "[encoded data removed]",
      "text/plain": [
       "<Figure size 1080x1080 with 2 Axes>"
      ]
     },
     "metadata": {
      "needs_background": "light"
     },
     "output_type": "display_data"
    }
   ],
   "source": [
    "import matplotlib.pyplot as plt\n",
    "import seaborn as sb\n",
    "\n",
    "C_mat = df.corr()\n",
    "fig = plt.figure(figsize = (15,15))\n",
    "\n",
    "sb.heatmap(C_mat, vmax = .8, square = True)\n",
    "plt.show()"
   ]
  },
  {
   "cell_type": "code",
   "execution_count": 60,
   "metadata": {},
   "outputs": [
    {
     "name": "stdout",
     "output_type": "stream",
     "text": [
      "<class 'pandas.core.frame.DataFrame'>\n",
      "Int64Index: 10682 entries, 0 to 10682\n",
      "Data columns (total 40 columns):\n",
      " #   Column                             Non-Null Count  Dtype  \n",
      "---  ------                             --------------  -----  \n",
      " 0   Price                              10682 non-null  int64  \n",
      " 1   day                                10682 non-null  int64  \n",
      " 2   month                              10682 non-null  int64  \n",
      " 3   year                               10682 non-null  int64  \n",
      " 4   Duration_in_minutes                10682 non-null  int64  \n",
      " 5   total_stops                        10682 non-null  float64\n",
      " 6   Distance                           10682 non-null  float64\n",
      " 7   Fuel                               10682 non-null  float64\n",
      " 8   Air Asia                           10682 non-null  uint8  \n",
      " 9   Air India                          10682 non-null  uint8  \n",
      " 10  GoAir                              10682 non-null  uint8  \n",
      " 11  IndiGo                             10682 non-null  uint8  \n",
      " 12  Jet Airways                        10682 non-null  uint8  \n",
      " 13  Jet Airways Business               10682 non-null  uint8  \n",
      " 14  Multiple carriers                  10682 non-null  uint8  \n",
      " 15  Multiple carriers Premium economy  10682 non-null  uint8  \n",
      " 16  SpiceJet                           10682 non-null  uint8  \n",
      " 17  Trujet                             10682 non-null  uint8  \n",
      " 18  Vistara                            10682 non-null  uint8  \n",
      " 19  Vistara Premium economy            10682 non-null  uint8  \n",
      " 20  Banglore                           10682 non-null  uint8  \n",
      " 21  Chennai                            10682 non-null  uint8  \n",
      " 22  Delhi                              10682 non-null  uint8  \n",
      " 23  Kolkata                            10682 non-null  uint8  \n",
      " 24  Mumbai                             10682 non-null  uint8  \n",
      " 25  d_Banglore                         10682 non-null  uint8  \n",
      " 26  d_Cochin                           10682 non-null  uint8  \n",
      " 27  d_Delhi                            10682 non-null  uint8  \n",
      " 28  d_Hyderabad                        10682 non-null  uint8  \n",
      " 29  d_Kolkata                          10682 non-null  uint8  \n",
      " 30  d_New Delhi                        10682 non-null  uint8  \n",
      " 31  Friday                             10682 non-null  uint8  \n",
      " 32  Monday                             10682 non-null  uint8  \n",
      " 33  Saturday                           10682 non-null  uint8  \n",
      " 34  Sunday                             10682 non-null  uint8  \n",
      " 35  Thursday                           10682 non-null  uint8  \n",
      " 36  Tuesday                            10682 non-null  uint8  \n",
      " 37  Wednesday                          10682 non-null  uint8  \n",
      " 38  Spring                             10682 non-null  uint8  \n",
      " 39  Summer                             10682 non-null  uint8  \n",
      "dtypes: float64(3), int64(5), uint8(32)\n",
      "memory usage: 1.1 MB\n"
     ]
    }
   ],
   "source": [
    "df.info()"
   ]
  },
  {
   "cell_type": "code",
   "execution_count": 61,
   "metadata": {
    "colab": {},
    "colab_type": "code",
    "id": "gGelSEtavZ_U"
   },
   "outputs": [],
   "source": [
    "from sklearn.model_selection import train_test_split"
   ]
  },
  {
   "cell_type": "code",
   "execution_count": 62,
   "metadata": {},
   "outputs": [],
   "source": [
    "#a=df"
   ]
  },
  {
   "cell_type": "code",
   "execution_count": 63,
   "metadata": {},
   "outputs": [
    {
     "data": {
      "text/plain": [
       "Index(['Price', 'day', 'month', 'year', 'Duration_in_minutes', 'total_stops',\n",
       "       'Distance', 'Fuel', 'Air Asia', 'Air India', 'GoAir', 'IndiGo',\n",
       "       'Jet Airways', 'Jet Airways Business', 'Multiple carriers',\n",
       "       'Multiple carriers Premium economy', 'SpiceJet', 'Trujet', 'Vistara',\n",
       "       'Vistara Premium economy', 'Banglore', 'Chennai', 'Delhi', 'Kolkata',\n",
       "       'Mumbai', 'd_Banglore', 'd_Cochin', 'd_Delhi', 'd_Hyderabad',\n",
       "       'd_Kolkata', 'd_New Delhi', 'Friday', 'Monday', 'Saturday', 'Sunday',\n",
       "       'Thursday', 'Tuesday', 'Wednesday', 'Spring', 'Summer'],\n",
       "      dtype='object')"
      ]
     },
     "execution_count": 63,
     "metadata": {},
     "output_type": "execute_result"
    }
   ],
   "source": [
    "df.columns"
   ]
  },
  {
   "cell_type": "code",
   "execution_count": null,
   "metadata": {},
   "outputs": [],
   "source": []
  },
  {
   "cell_type": "code",
   "execution_count": 64,
   "metadata": {},
   "outputs": [
    {
     "data": {
      "text/plain": [
       "Index(['Price', 'day', 'month', 'year', 'Duration_in_minutes', 'total_stops',\n",
       "       'Distance', 'Fuel', 'Air Asia', 'Air India', 'GoAir', 'IndiGo',\n",
       "       'Jet Airways', 'Jet Airways Business', 'Multiple carriers',\n",
       "       'Multiple carriers Premium economy', 'SpiceJet', 'Trujet', 'Vistara',\n",
       "       'Vistara Premium economy', 'Banglore', 'Chennai', 'Delhi', 'Kolkata',\n",
       "       'Mumbai', 'd_Banglore', 'd_Cochin', 'd_Delhi', 'd_Hyderabad',\n",
       "       'd_Kolkata', 'd_New Delhi', 'Friday', 'Monday', 'Saturday', 'Sunday',\n",
       "       'Thursday', 'Tuesday', 'Wednesday', 'Spring', 'Summer'],\n",
       "      dtype='object')"
      ]
     },
     "execution_count": 64,
     "metadata": {},
     "output_type": "execute_result"
    }
   ],
   "source": [
    "df.columns"
   ]
  },
  {
   "cell_type": "code",
   "execution_count": null,
   "metadata": {},
   "outputs": [],
   "source": []
  },
  {
   "cell_type": "code",
   "execution_count": 65,
   "metadata": {
    "colab": {
     "base_uri": "https://localhost:8080/",
     "height": 982
    },
    "colab_type": "code",
    "id": "qWb477Osxmw1",
    "outputId": "b8b46b4e-717a-4d6f-e1c1-f754765ecc64"
   },
   "outputs": [],
   "source": [
    "b = df['Price']\n",
    "#a = df.drop('Yield', axis = 1)\n",
    "\n"
   ]
  },
  {
   "cell_type": "code",
   "execution_count": null,
   "metadata": {},
   "outputs": [],
   "source": []
  },
  {
   "cell_type": "code",
   "execution_count": null,
   "metadata": {},
   "outputs": [],
   "source": []
  },
  {
   "cell_type": "code",
   "execution_count": 66,
   "metadata": {},
   "outputs": [],
   "source": [
    "c=df.drop('Price', axis = 1)"
   ]
  },
  {
   "cell_type": "code",
   "execution_count": 67,
   "metadata": {},
   "outputs": [
    {
     "data": {
      "text/plain": [
       "39"
      ]
     },
     "execution_count": 67,
     "metadata": {},
     "output_type": "execute_result"
    }
   ],
   "source": [
    "len(c.columns)"
   ]
  },
  {
   "cell_type": "code",
   "execution_count": 68,
   "metadata": {},
   "outputs": [
    {
     "data": {
      "text/plain": [
       "Index(['day', 'month', 'year', 'Duration_in_minutes', 'total_stops',\n",
       "       'Distance', 'Fuel', 'Air Asia', 'Air India', 'GoAir', 'IndiGo',\n",
       "       'Jet Airways', 'Jet Airways Business', 'Multiple carriers',\n",
       "       'Multiple carriers Premium economy', 'SpiceJet', 'Trujet', 'Vistara',\n",
       "       'Vistara Premium economy', 'Banglore', 'Chennai', 'Delhi', 'Kolkata',\n",
       "       'Mumbai', 'd_Banglore', 'd_Cochin', 'd_Delhi', 'd_Hyderabad',\n",
       "       'd_Kolkata', 'd_New Delhi', 'Friday', 'Monday', 'Saturday', 'Sunday',\n",
       "       'Thursday', 'Tuesday', 'Wednesday', 'Spring', 'Summer'],\n",
       "      dtype='object')"
      ]
     },
     "execution_count": 68,
     "metadata": {},
     "output_type": "execute_result"
    }
   ],
   "source": [
    "c.columns"
   ]
  },
  {
   "cell_type": "code",
   "execution_count": null,
   "metadata": {},
   "outputs": [],
   "source": []
  },
  {
   "cell_type": "code",
   "execution_count": 69,
   "metadata": {},
   "outputs": [],
   "source": [
    "features_list=['day', 'month', 'year', 'Duration_in_minutes', 'total_stops',\n",
    "       'Distance', 'Fuel', 'Air Asia', 'Air India', 'GoAir', 'IndiGo',\n",
    "       'Jet Airways', 'Jet Airways Business', 'Multiple carriers',\n",
    "       'Multiple carriers Premium economy', 'SpiceJet', 'Trujet', 'Vistara',\n",
    "       'Vistara Premium economy', 'Banglore', 'Chennai', 'Delhi', 'Kolkata',\n",
    "       'Mumbai', 'd_Banglore', 'd_Cochin', 'd_Delhi', 'd_Hyderabad',\n",
    "       'd_Kolkata', 'd_New Delhi', 'Friday', 'Monday', 'Saturday', 'Sunday',\n",
    "       'Thursday', 'Tuesday', 'Wednesday', 'Spring', 'Summer']"
   ]
  },
  {
   "cell_type": "code",
   "execution_count": null,
   "metadata": {},
   "outputs": [],
   "source": []
  },
  {
   "cell_type": "code",
   "execution_count": 70,
   "metadata": {},
   "outputs": [],
   "source": [
    "#features_list = list(set(features_list))"
   ]
  },
  {
   "cell_type": "code",
   "execution_count": 71,
   "metadata": {},
   "outputs": [],
   "source": [
    "#features_list"
   ]
  },
  {
   "cell_type": "code",
   "execution_count": 72,
   "metadata": {},
   "outputs": [
    {
     "data": {
      "text/plain": [
       "39"
      ]
     },
     "execution_count": 72,
     "metadata": {},
     "output_type": "execute_result"
    }
   ],
   "source": [
    "len(features_list)"
   ]
  },
  {
   "cell_type": "code",
   "execution_count": null,
   "metadata": {},
   "outputs": [],
   "source": []
  },
  {
   "cell_type": "code",
   "execution_count": 73,
   "metadata": {},
   "outputs": [
    {
     "data": {
      "text/plain": [
       "39"
      ]
     },
     "execution_count": 73,
     "metadata": {},
     "output_type": "execute_result"
    }
   ],
   "source": [
    "features_list123=[0, 0, 0, 0, 0, 0, 0, 0, 0, 0, 0, 0,0, 0, 0, 0, 0, 0, 0, 0, 0, 0, 0, 0,0, 0, 0, 0, 0, 0, 0, 0, 0, 0,0,0,0,0,0]\n",
    "\n",
    "len(features_list123)"
   ]
  },
  {
   "cell_type": "code",
   "execution_count": 74,
   "metadata": {},
   "outputs": [
    {
     "data": {
      "text/plain": [
       "39"
      ]
     },
     "execution_count": 74,
     "metadata": {},
     "output_type": "execute_result"
    }
   ],
   "source": [
    "len(features_list)"
   ]
  },
  {
   "cell_type": "code",
   "execution_count": 75,
   "metadata": {},
   "outputs": [],
   "source": [
    "a=df[features_list]"
   ]
  },
  {
   "cell_type": "code",
   "execution_count": 76,
   "metadata": {},
   "outputs": [
    {
     "data": {
      "text/html": [
       "<div>\n",
       "<style scoped>\n",
       "    .dataframe tbody tr th:only-of-type {\n",
       "        vertical-align: middle;\n",
       "    }\n",
       "\n",
       "    .dataframe tbody tr th {\n",
       "        vertical-align: top;\n",
       "    }\n",
       "\n",
       "    .dataframe thead th {\n",
       "        text-align: right;\n",
       "    }\n",
       "</style>\n",
       "<table border=\"1\" class=\"dataframe\">\n",
       "  <thead>\n",
       "    <tr style=\"text-align: right;\">\n",
       "      <th></th>\n",
       "      <th>day</th>\n",
       "      <th>month</th>\n",
       "      <th>year</th>\n",
       "      <th>Duration_in_minutes</th>\n",
       "      <th>total_stops</th>\n",
       "      <th>Distance</th>\n",
       "      <th>Fuel</th>\n",
       "      <th>Air Asia</th>\n",
       "      <th>Air India</th>\n",
       "      <th>GoAir</th>\n",
       "      <th>...</th>\n",
       "      <th>d_New Delhi</th>\n",
       "      <th>Friday</th>\n",
       "      <th>Monday</th>\n",
       "      <th>Saturday</th>\n",
       "      <th>Sunday</th>\n",
       "      <th>Thursday</th>\n",
       "      <th>Tuesday</th>\n",
       "      <th>Wednesday</th>\n",
       "      <th>Spring</th>\n",
       "      <th>Summer</th>\n",
       "    </tr>\n",
       "  </thead>\n",
       "  <tbody>\n",
       "    <tr>\n",
       "      <th>0</th>\n",
       "      <td>24</td>\n",
       "      <td>3</td>\n",
       "      <td>2019</td>\n",
       "      <td>170</td>\n",
       "      <td>0.0</td>\n",
       "      <td>1733.705461</td>\n",
       "      <td>6067.969113</td>\n",
       "      <td>0</td>\n",
       "      <td>0</td>\n",
       "      <td>0</td>\n",
       "      <td>...</td>\n",
       "      <td>1</td>\n",
       "      <td>0</td>\n",
       "      <td>0</td>\n",
       "      <td>0</td>\n",
       "      <td>1</td>\n",
       "      <td>0</td>\n",
       "      <td>0</td>\n",
       "      <td>0</td>\n",
       "      <td>1</td>\n",
       "      <td>0</td>\n",
       "    </tr>\n",
       "    <tr>\n",
       "      <th>1</th>\n",
       "      <td>1</td>\n",
       "      <td>5</td>\n",
       "      <td>2019</td>\n",
       "      <td>445</td>\n",
       "      <td>2.0</td>\n",
       "      <td>1562.399645</td>\n",
       "      <td>5468.398757</td>\n",
       "      <td>0</td>\n",
       "      <td>1</td>\n",
       "      <td>0</td>\n",
       "      <td>...</td>\n",
       "      <td>0</td>\n",
       "      <td>0</td>\n",
       "      <td>0</td>\n",
       "      <td>0</td>\n",
       "      <td>0</td>\n",
       "      <td>0</td>\n",
       "      <td>0</td>\n",
       "      <td>1</td>\n",
       "      <td>1</td>\n",
       "      <td>0</td>\n",
       "    </tr>\n",
       "    <tr>\n",
       "      <th>2</th>\n",
       "      <td>9</td>\n",
       "      <td>6</td>\n",
       "      <td>2019</td>\n",
       "      <td>1140</td>\n",
       "      <td>2.0</td>\n",
       "      <td>2067.985155</td>\n",
       "      <td>7237.948041</td>\n",
       "      <td>0</td>\n",
       "      <td>0</td>\n",
       "      <td>0</td>\n",
       "      <td>...</td>\n",
       "      <td>0</td>\n",
       "      <td>0</td>\n",
       "      <td>0</td>\n",
       "      <td>0</td>\n",
       "      <td>1</td>\n",
       "      <td>0</td>\n",
       "      <td>0</td>\n",
       "      <td>0</td>\n",
       "      <td>0</td>\n",
       "      <td>1</td>\n",
       "    </tr>\n",
       "    <tr>\n",
       "      <th>3</th>\n",
       "      <td>12</td>\n",
       "      <td>5</td>\n",
       "      <td>2019</td>\n",
       "      <td>325</td>\n",
       "      <td>1.0</td>\n",
       "      <td>1562.399645</td>\n",
       "      <td>5468.398757</td>\n",
       "      <td>0</td>\n",
       "      <td>0</td>\n",
       "      <td>0</td>\n",
       "      <td>...</td>\n",
       "      <td>0</td>\n",
       "      <td>0</td>\n",
       "      <td>0</td>\n",
       "      <td>0</td>\n",
       "      <td>1</td>\n",
       "      <td>0</td>\n",
       "      <td>0</td>\n",
       "      <td>0</td>\n",
       "      <td>1</td>\n",
       "      <td>0</td>\n",
       "    </tr>\n",
       "    <tr>\n",
       "      <th>4</th>\n",
       "      <td>1</td>\n",
       "      <td>3</td>\n",
       "      <td>2019</td>\n",
       "      <td>285</td>\n",
       "      <td>1.0</td>\n",
       "      <td>1733.705461</td>\n",
       "      <td>6067.969113</td>\n",
       "      <td>0</td>\n",
       "      <td>0</td>\n",
       "      <td>0</td>\n",
       "      <td>...</td>\n",
       "      <td>1</td>\n",
       "      <td>1</td>\n",
       "      <td>0</td>\n",
       "      <td>0</td>\n",
       "      <td>0</td>\n",
       "      <td>0</td>\n",
       "      <td>0</td>\n",
       "      <td>0</td>\n",
       "      <td>1</td>\n",
       "      <td>0</td>\n",
       "    </tr>\n",
       "  </tbody>\n",
       "</table>\n",
       "<p>5 rows × 39 columns</p>\n",
       "</div>"
      ],
      "text/plain": [
       "   day  month  year  Duration_in_minutes  total_stops     Distance  \\\n",
       "0   24      3  2019                  170          0.0  1733.705461   \n",
       "1    1      5  2019                  445          2.0  1562.399645   \n",
       "2    9      6  2019                 1140          2.0  2067.985155   \n",
       "3   12      5  2019                  325          1.0  1562.399645   \n",
       "4    1      3  2019                  285          1.0  1733.705461   \n",
       "\n",
       "          Fuel  Air Asia  Air India  GoAir  ...  d_New Delhi  Friday  Monday  \\\n",
       "0  6067.969113         0          0      0  ...            1       0       0   \n",
       "1  5468.398757         0          1      0  ...            0       0       0   \n",
       "2  7237.948041         0          0      0  ...            0       0       0   \n",
       "3  5468.398757         0          0      0  ...            0       0       0   \n",
       "4  6067.969113         0          0      0  ...            1       1       0   \n",
       "\n",
       "   Saturday  Sunday  Thursday  Tuesday  Wednesday  Spring  Summer  \n",
       "0         0       1         0        0          0       1       0  \n",
       "1         0       0         0        0          1       1       0  \n",
       "2         0       1         0        0          0       0       1  \n",
       "3         0       1         0        0          0       1       0  \n",
       "4         0       0         0        0          0       1       0  \n",
       "\n",
       "[5 rows x 39 columns]"
      ]
     },
     "execution_count": 76,
     "metadata": {},
     "output_type": "execute_result"
    }
   ],
   "source": [
    "a.head()"
   ]
  },
  {
   "cell_type": "code",
   "execution_count": 77,
   "metadata": {},
   "outputs": [
    {
     "data": {
      "text/plain": [
       "Index(['day', 'month', 'year', 'Duration_in_minutes', 'total_stops',\n",
       "       'Distance', 'Fuel', 'Air Asia', 'Air India', 'GoAir', 'IndiGo',\n",
       "       'Jet Airways', 'Jet Airways Business', 'Multiple carriers',\n",
       "       'Multiple carriers Premium economy', 'SpiceJet', 'Trujet', 'Vistara',\n",
       "       'Vistara Premium economy', 'Banglore', 'Chennai', 'Delhi', 'Kolkata',\n",
       "       'Mumbai', 'd_Banglore', 'd_Cochin', 'd_Delhi', 'd_Hyderabad',\n",
       "       'd_Kolkata', 'd_New Delhi', 'Friday', 'Monday', 'Saturday', 'Sunday',\n",
       "       'Thursday', 'Tuesday', 'Wednesday', 'Spring', 'Summer'],\n",
       "      dtype='object')"
      ]
     },
     "execution_count": 77,
     "metadata": {},
     "output_type": "execute_result"
    }
   ],
   "source": [
    "a.columns"
   ]
  },
  {
   "cell_type": "code",
   "execution_count": null,
   "metadata": {},
   "outputs": [],
   "source": []
  },
  {
   "cell_type": "code",
   "execution_count": null,
   "metadata": {},
   "outputs": [],
   "source": []
  },
  {
   "cell_type": "code",
   "execution_count": null,
   "metadata": {},
   "outputs": [],
   "source": []
  },
  {
   "cell_type": "code",
   "execution_count": 78,
   "metadata": {},
   "outputs": [
    {
     "name": "stdout",
     "output_type": "stream",
     "text": [
      "      day  month  year  Duration_in_minutes  total_stops     Distance  \\\n",
      "749    27      6  2019                   90          0.0   623.422170   \n",
      "6077   21      6  2019                  150          0.0  1562.399645   \n",
      "2373   27      5  2019                  630          1.0  2067.985155   \n",
      "2442    9      5  2019                  720          1.0  1562.399645   \n",
      "5402    9      6  2019                 1410          2.0  2067.985155   \n",
      "...   ...    ...   ...                  ...          ...          ...   \n",
      "5734   27      3  2019                 1165          1.0  2067.985155   \n",
      "5191    9      5  2019                  400          1.0  1562.399645   \n",
      "5390   15      5  2019                  760          1.0  2067.985155   \n",
      "860     3      3  2019                  165          0.0  1733.705461   \n",
      "7270    1      6  2019                  925          1.0  2067.985155   \n",
      "\n",
      "             Fuel  Air Asia  Air India  GoAir  ...  d_New Delhi  Friday  \\\n",
      "749   2181.977596         0          0      0  ...            0       0   \n",
      "6077  5468.398757         0          0      0  ...            0       1   \n",
      "2373  7237.948041         0          0      0  ...            0       0   \n",
      "2442  5468.398757         1          0      0  ...            0       0   \n",
      "5402  7237.948041         0          1      0  ...            0       0   \n",
      "...           ...       ...        ...    ...  ...          ...     ...   \n",
      "5734  7237.948041         0          0      0  ...            0       0   \n",
      "5191  5468.398757         0          0      0  ...            0       0   \n",
      "5390  7237.948041         0          0      0  ...            0       0   \n",
      "860   6067.969113         0          0      0  ...            1       0   \n",
      "7270  7237.948041         0          0      0  ...            0       0   \n",
      "\n",
      "      Monday  Saturday  Sunday  Thursday  Tuesday  Wednesday  Spring  Summer  \n",
      "749        0         0       0         1        0          0       0       1  \n",
      "6077       0         0       0         0        0          0       0       1  \n",
      "2373       1         0       0         0        0          0       1       0  \n",
      "2442       0         0       0         1        0          0       1       0  \n",
      "5402       0         0       1         0        0          0       0       1  \n",
      "...      ...       ...     ...       ...      ...        ...     ...     ...  \n",
      "5734       0         0       0         0        0          1       1       0  \n",
      "5191       0         0       0         1        0          0       1       0  \n",
      "5390       0         0       0         0        0          1       1       0  \n",
      "860        0         0       1         0        0          0       1       0  \n",
      "7270       0         1       0         0        0          0       0       1  \n",
      "\n",
      "[7477 rows x 39 columns]\n",
      "      day  month  year  Duration_in_minutes  total_stops     Distance  \\\n",
      "6075   21      5  2019                  625          2.0  2067.985155   \n",
      "3544    3      6  2019                  540          1.0  2067.985155   \n",
      "9291    9      5  2019                  765          1.0  1562.399645   \n",
      "5032   24      5  2019                  140          0.0  1355.300874   \n",
      "2483   21      5  2019                  335          1.0  2067.985155   \n",
      "...   ...    ...   ...                  ...          ...          ...   \n",
      "7917    1      6  2019                  505          2.0  2067.985155   \n",
      "5858    9      6  2019                  425          1.0  1562.399645   \n",
      "2689   12      5  2019                  195          0.0  2067.985155   \n",
      "4486    9      5  2019                   80          0.0   623.422170   \n",
      "7877    9      5  2019                  835          1.0  2067.985155   \n",
      "\n",
      "             Fuel  Air Asia  Air India  GoAir  ...  d_New Delhi  Friday  \\\n",
      "6075  7237.948041         0          0      0  ...            0       0   \n",
      "3544  7237.948041         0          0      1  ...            0       0   \n",
      "9291  5468.398757         0          0      0  ...            0       0   \n",
      "5032  4743.553060         0          0      0  ...            0       1   \n",
      "2483  7237.948041         0          0      0  ...            0       0   \n",
      "...           ...       ...        ...    ...  ...          ...     ...   \n",
      "7917  7237.948041         0          0      0  ...            0       0   \n",
      "5858  5468.398757         0          0      0  ...            0       0   \n",
      "2689  7237.948041         0          0      0  ...            0       0   \n",
      "4486  2181.977596         0          1      0  ...            0       0   \n",
      "7877  7237.948041         0          0      0  ...            0       0   \n",
      "\n",
      "      Monday  Saturday  Sunday  Thursday  Tuesday  Wednesday  Spring  Summer  \n",
      "6075       0         0       0         0        1          0       1       0  \n",
      "3544       1         0       0         0        0          0       0       1  \n",
      "9291       0         0       0         1        0          0       1       0  \n",
      "5032       0         0       0         0        0          0       1       0  \n",
      "2483       0         0       0         0        1          0       1       0  \n",
      "...      ...       ...     ...       ...      ...        ...     ...     ...  \n",
      "7917       0         1       0         0        0          0       0       1  \n",
      "5858       0         0       1         0        0          0       0       1  \n",
      "2689       0         0       1         0        0          0       1       0  \n",
      "4486       0         0       0         1        0          0       1       0  \n",
      "7877       0         0       0         1        0          0       1       0  \n",
      "\n",
      "[3205 rows x 39 columns]\n",
      "749      8040\n",
      "6077     3873\n",
      "2373    13377\n",
      "2442     5192\n",
      "5402     9968\n",
      "        ...  \n",
      "5734    12242\n",
      "5191    10844\n",
      "5390     7670\n",
      "860      6144\n",
      "7270    10262\n",
      "Name: Price, Length: 7477, dtype: int64\n",
      "6075    16655\n",
      "3544     4959\n",
      "9291     9187\n",
      "5032     3858\n",
      "2483    12898\n",
      "        ...  \n",
      "7917    16263\n",
      "5858    10844\n",
      "2689     5000\n",
      "4486     3100\n",
      "7877     6734\n",
      "Name: Price, Length: 3205, dtype: int64\n"
     ]
    }
   ],
   "source": [
    "a_train, a_test, b_train, b_test = train_test_split(a, b, test_size = 0.3, random_state = 42)\n",
    "\n",
    "print(a_train)\n",
    "print(a_test)\n",
    "print(b_train)\n",
    "print(b_test)"
   ]
  },
  {
   "cell_type": "code",
   "execution_count": 79,
   "metadata": {
    "colab": {},
    "colab_type": "code",
    "id": "nqx2dijEzIeK"
   },
   "outputs": [],
   "source": [
    "import numpy as np  \n",
    "import matplotlib.pyplot as plt  \n",
    "import seaborn as seabornInstance \n",
    "from sklearn.linear_model import LinearRegression\n",
    "from sklearn import metrics\n",
    "%matplotlib inline"
   ]
  },
  {
   "cell_type": "code",
   "execution_count": 80,
   "metadata": {
    "colab": {},
    "colab_type": "code",
    "id": "6HHemLU20qxI"
   },
   "outputs": [],
   "source": [
    "#from sklearn.preprocessing import StandardScaler\n",
    "#sc = StandardScaler()\n",
    "#a_train = sc.fit_transform(a_train)\n",
    "#a_test = sc.transform(a_test)"
   ]
  },
  {
   "cell_type": "markdown",
   "metadata": {
    "colab_type": "text",
    "id": "BbUw1P-aiwBg"
   },
   "source": [
    "###Random Forest Regressor"
   ]
  },
  {
   "cell_type": "code",
   "execution_count": 81,
   "metadata": {
    "colab": {
     "base_uri": "https://localhost:8080/",
     "height": 73
    },
    "colab_type": "code",
    "id": "cnCF9S0K03gI",
    "outputId": "9ba85e05-91e5-4885-d097-d3a1f5492e3b"
   },
   "outputs": [
    {
     "name": "stdout",
     "output_type": "stream",
     "text": [
      "MSE = 5606493.207446149\n",
      "MAE = 1404.4318947478246\n",
      "R2 Score = 0.7007569171248467\n"
     ]
    }
   ],
   "source": [
    "   from sklearn.ensemble import RandomForestRegressor\n",
    "   regr = RandomForestRegressor(max_depth=1000, random_state=45, n_estimators=10)\n",
    "   regr.fit(a_train, b_train)\n",
    "   b_pred = regr.predict(a_test)\n",
    "\n",
    "   from sklearn.metrics import mean_squared_error as mse\n",
    "   from sklearn.metrics import mean_absolute_error as mae\n",
    "   from sklearn.metrics import r2_score\n",
    "\n",
    "   print('MSE =', mse(b_pred, b_test))\n",
    "   print('MAE =', mae(b_pred, b_test))\n",
    "   print('R2 Score =', r2_score(b_pred, b_test))"
   ]
  },
  {
   "cell_type": "code",
   "execution_count": null,
   "metadata": {},
   "outputs": [],
   "source": []
  },
  {
   "cell_type": "code",
   "execution_count": null,
   "metadata": {},
   "outputs": [],
   "source": []
  },
  {
   "cell_type": "markdown",
   "metadata": {
    "colab_type": "text",
    "id": "9z-PKTBBirP1"
   },
   "source": [
    "###Polynomial Support Vector Machine"
   ]
  },
  {
   "cell_type": "code",
   "execution_count": 82,
   "metadata": {
    "colab": {
     "base_uri": "https://localhost:8080/",
     "height": 111
    },
    "colab_type": "code",
    "id": "zURtx4kAPLTr",
    "outputId": "75a85738-343e-4859-93ce-89cbf8e7349b"
   },
   "outputs": [
    {
     "name": "stdout",
     "output_type": "stream",
     "text": [
      "0.041905607373856735\n",
      "0.7251843838735919\n"
     ]
    }
   ],
   "source": [
    "from sklearn.svm import SVR\n",
    "regressorpoly=SVR(kernel='poly',epsilon=1.0)\n",
    "regressorpoly.fit(a_train,b_train)\n",
    "pred=regressorpoly.predict(a_test)\n",
    "print(regressorpoly.score(a_test,b_test))\n",
    "print(r2_score(b_test,b_pred))"
   ]
  },
  {
   "cell_type": "code",
   "execution_count": null,
   "metadata": {},
   "outputs": [],
   "source": []
  },
  {
   "cell_type": "code",
   "execution_count": 83,
   "metadata": {},
   "outputs": [
    {
     "name": "stdout",
     "output_type": "stream",
     "text": [
      "XGBoost validation MAE =  1290.3595391950444\n"
     ]
    },
    {
     "data": {
      "text/plain": [
       "array([15819.284 ,  6786.5264,  7906.4717, ...,  5886.822 ,  3175.0637,\n",
       "        6945.831 ], dtype=float32)"
      ]
     },
     "execution_count": 83,
     "metadata": {},
     "output_type": "execute_result"
    }
   ],
   "source": [
    "from xgboost import XGBRegressor\n",
    "from sklearn.metrics import mean_absolute_error \n",
    "XGBModel = XGBRegressor()\n",
    "XGBModel.fit(a_train,b_train , verbose=False)\n",
    "\n",
    "# Get the mean absolute error on the validation data :\n",
    "XGBpredictions = XGBModel.predict(a_test)\n",
    "MAE = mean_absolute_error(b_test , XGBpredictions)\n",
    "print('XGBoost validation MAE = ',MAE)\n",
    "XGBpredictions"
   ]
  },
  {
   "cell_type": "code",
   "execution_count": 84,
   "metadata": {},
   "outputs": [
    {
     "name": "stdout",
     "output_type": "stream",
     "text": [
      "0.7903488267798403\n"
     ]
    }
   ],
   "source": [
    "print(r2_score(b_test , XGBpredictions))"
   ]
  },
  {
   "cell_type": "code",
   "execution_count": null,
   "metadata": {},
   "outputs": [],
   "source": []
  },
  {
   "cell_type": "code",
   "execution_count": null,
   "metadata": {},
   "outputs": [],
   "source": []
  },
  {
   "cell_type": "code",
   "execution_count": 85,
   "metadata": {},
   "outputs": [],
   "source": [
    "import joblib  #XGBModel\n",
    " \n",
    "# Save the model as a pickle in a file\n",
    "joblib.dump(XGBModel, 'flight_price.pkl')\n",
    " \n",
    "# Load the model from the file\n",
    "knn_from_joblib = joblib.load('flight_price.pkl')\n",
    " \n",
    "# Use the loaded model to make predictions\n"
   ]
  },
  {
   "cell_type": "code",
   "execution_count": 86,
   "metadata": {},
   "outputs": [
    {
     "data": {
      "text/plain": [
       "6075    16655\n",
       "3544     4959\n",
       "9291     9187\n",
       "5032     3858\n",
       "2483    12898\n",
       "9894    10529\n",
       "346     16079\n",
       "6365     7229\n",
       "7624    10844\n",
       "3393    16289\n",
       "Name: Price, dtype: int64"
      ]
     },
     "execution_count": 86,
     "metadata": {},
     "output_type": "execute_result"
    }
   ],
   "source": [
    "b_test[0:10]"
   ]
  },
  {
   "cell_type": "code",
   "execution_count": null,
   "metadata": {},
   "outputs": [],
   "source": []
  },
  {
   "cell_type": "code",
   "execution_count": 87,
   "metadata": {},
   "outputs": [
    {
     "data": {
      "text/plain": [
       "array([[2.10000000e+01, 5.00000000e+00, 2.01900000e+03, 6.25000000e+02,\n",
       "        2.00000000e+00, 2.06798515e+03, 7.23794804e+03, 0.00000000e+00,\n",
       "        0.00000000e+00, 0.00000000e+00, 0.00000000e+00, 0.00000000e+00,\n",
       "        0.00000000e+00, 1.00000000e+00, 0.00000000e+00, 0.00000000e+00,\n",
       "        0.00000000e+00, 0.00000000e+00, 0.00000000e+00, 0.00000000e+00,\n",
       "        0.00000000e+00, 1.00000000e+00, 0.00000000e+00, 0.00000000e+00,\n",
       "        0.00000000e+00, 1.00000000e+00, 0.00000000e+00, 0.00000000e+00,\n",
       "        0.00000000e+00, 0.00000000e+00, 0.00000000e+00, 0.00000000e+00,\n",
       "        0.00000000e+00, 0.00000000e+00, 0.00000000e+00, 1.00000000e+00,\n",
       "        0.00000000e+00, 1.00000000e+00, 0.00000000e+00]])"
      ]
     },
     "execution_count": 87,
     "metadata": {},
     "output_type": "execute_result"
    }
   ],
   "source": [
    "a_test[0:1].values"
   ]
  },
  {
   "cell_type": "code",
   "execution_count": 88,
   "metadata": {},
   "outputs": [
    {
     "name": "stdout",
     "output_type": "stream",
     "text": [
      "[13290.144]\n"
     ]
    }
   ],
   "source": [
    "# Create a list of new data points\n",
    "#new_data = [[45., 33., 35.,  6.,  5.,  0.,  0.,  1., 38.,  0.,  0.,  0.]]\n",
    "\n",
    "new_data =[[23.0, 21.0, 23.0, 6.0, 5.0, 1.0, 0.0, 1.0, 3.0, 0.0, 0.0, 0.0,23.0, 21.0, 23.0, 6.0, 5.0, 1.0, 0.0, 1.0, 3.0, 0.0, 0.0, 0.0,23.0, 21.0, 23.0, 6.0, 5.0, 1.0, 0.0, 1.0, 3.0, 0.0,0,0,0,0,0]]\n",
    "\n",
    "# Convert the list of data points to a numpy array\n",
    "new_data_np = np.array(new_data)\n",
    "\n",
    "# Use the XGBoost model to make predictions on the new data\n",
    "predictions = knn_from_joblib.predict((new_data_np))\n",
    "\n",
    "print(predictions)"
   ]
  },
  {
   "cell_type": "code",
   "execution_count": null,
   "metadata": {},
   "outputs": [],
   "source": []
  },
  {
   "cell_type": "code",
   "execution_count": null,
   "metadata": {},
   "outputs": [],
   "source": []
  }
 ],
 "metadata": {
  "accelerator": "GPU",
  "colab": {
   "collapsed_sections": [],
   "name": "FinalBennetProject.ipynb",
   "provenance": [],
   "toc_visible": true
  },
  "kernelspec": {
   "display_name": "agri",
   "language": "python",
   "name": "agri"
  },
  "language_info": {
   "codemirror_mode": {
    "name": "ipython",
    "version": 3
   },
   "file_extension": ".py",
   "mimetype": "text/x-python",
   "name": "python",
   "nbconvert_exporter": "python",
   "pygments_lexer": "ipython3",
   "version": "3.7.11"
  }
 },
 "nbformat": 4,
 "nbformat_minor": 1
}
