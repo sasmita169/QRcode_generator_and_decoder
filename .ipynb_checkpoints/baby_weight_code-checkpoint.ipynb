{
 "cells": [
  {
   "cell_type": "markdown",
   "metadata": {
    "colab_type": "text",
    "id": "4q9XG_lYfqd2"
   },
   "source": [
    "#Dataset 1"
   ]
  },
  {
   "cell_type": "markdown",
   "metadata": {
    "colab_type": "text",
    "id": "hoIvQtcvOiYB"
   },
   "source": [
    "##Reading Dataset"
   ]
  },
  {
   "cell_type": "code",
   "execution_count": 1,
   "metadata": {
    "colab": {
     "base_uri": "https://localhost:8080/",
     "height": 424
    },
    "colab_type": "code",
    "id": "t9DHU4au4lKN",
    "outputId": "4b5c8394-3135-4c26-f852-73f42aaa7f64"
   },
   "outputs": [
    {
     "data": {
      "text/html": [
       "<div>\n",
       "<style scoped>\n",
       "    .dataframe tbody tr th:only-of-type {\n",
       "        vertical-align: middle;\n",
       "    }\n",
       "\n",
       "    .dataframe tbody tr th {\n",
       "        vertical-align: top;\n",
       "    }\n",
       "\n",
       "    .dataframe thead th {\n",
       "        text-align: right;\n",
       "    }\n",
       "</style>\n",
       "<table border=\"1\" class=\"dataframe\">\n",
       "  <thead>\n",
       "    <tr style=\"text-align: right;\">\n",
       "      <th></th>\n",
       "      <th>ID</th>\n",
       "      <th>SEX</th>\n",
       "      <th>MARITAL</th>\n",
       "      <th>FAGE</th>\n",
       "      <th>GAINED</th>\n",
       "      <th>VISITS</th>\n",
       "      <th>MAGE</th>\n",
       "      <th>FEDUC</th>\n",
       "      <th>MEDUC</th>\n",
       "      <th>TOTALP</th>\n",
       "      <th>...</th>\n",
       "      <th>HYPERCH</th>\n",
       "      <th>HYPERPR</th>\n",
       "      <th>ECLAMP</th>\n",
       "      <th>CERVIX</th>\n",
       "      <th>PINFANT</th>\n",
       "      <th>PRETERM</th>\n",
       "      <th>RENAL</th>\n",
       "      <th>RHSEN</th>\n",
       "      <th>UTERINE</th>\n",
       "      <th>BWEIGHT</th>\n",
       "    </tr>\n",
       "  </thead>\n",
       "  <tbody>\n",
       "    <tr>\n",
       "      <th>0</th>\n",
       "      <td>2001</td>\n",
       "      <td>2</td>\n",
       "      <td>1</td>\n",
       "      <td>33</td>\n",
       "      <td>26.0</td>\n",
       "      <td>10</td>\n",
       "      <td>34</td>\n",
       "      <td>12.0</td>\n",
       "      <td>4</td>\n",
       "      <td>2</td>\n",
       "      <td>...</td>\n",
       "      <td>0</td>\n",
       "      <td>0</td>\n",
       "      <td>0</td>\n",
       "      <td>0</td>\n",
       "      <td>0</td>\n",
       "      <td>0</td>\n",
       "      <td>0</td>\n",
       "      <td>0</td>\n",
       "      <td>0</td>\n",
       "      <td>4.3750</td>\n",
       "    </tr>\n",
       "    <tr>\n",
       "      <th>1</th>\n",
       "      <td>2002</td>\n",
       "      <td>2</td>\n",
       "      <td>2</td>\n",
       "      <td>19</td>\n",
       "      <td>40.0</td>\n",
       "      <td>10</td>\n",
       "      <td>18</td>\n",
       "      <td>11.0</td>\n",
       "      <td>12</td>\n",
       "      <td>1</td>\n",
       "      <td>...</td>\n",
       "      <td>0</td>\n",
       "      <td>0</td>\n",
       "      <td>0</td>\n",
       "      <td>0</td>\n",
       "      <td>0</td>\n",
       "      <td>0</td>\n",
       "      <td>0</td>\n",
       "      <td>0</td>\n",
       "      <td>0</td>\n",
       "      <td>6.9375</td>\n",
       "    </tr>\n",
       "    <tr>\n",
       "      <th>2</th>\n",
       "      <td>2003</td>\n",
       "      <td>2</td>\n",
       "      <td>1</td>\n",
       "      <td>33</td>\n",
       "      <td>16.0</td>\n",
       "      <td>14</td>\n",
       "      <td>31</td>\n",
       "      <td>16.0</td>\n",
       "      <td>16</td>\n",
       "      <td>2</td>\n",
       "      <td>...</td>\n",
       "      <td>0</td>\n",
       "      <td>0</td>\n",
       "      <td>0</td>\n",
       "      <td>0</td>\n",
       "      <td>0</td>\n",
       "      <td>0</td>\n",
       "      <td>0</td>\n",
       "      <td>0</td>\n",
       "      <td>0</td>\n",
       "      <td>8.5000</td>\n",
       "    </tr>\n",
       "    <tr>\n",
       "      <th>3</th>\n",
       "      <td>2004</td>\n",
       "      <td>1</td>\n",
       "      <td>1</td>\n",
       "      <td>25</td>\n",
       "      <td>40.0</td>\n",
       "      <td>15</td>\n",
       "      <td>28</td>\n",
       "      <td>12.0</td>\n",
       "      <td>12</td>\n",
       "      <td>3</td>\n",
       "      <td>...</td>\n",
       "      <td>0</td>\n",
       "      <td>0</td>\n",
       "      <td>0</td>\n",
       "      <td>0</td>\n",
       "      <td>0</td>\n",
       "      <td>0</td>\n",
       "      <td>0</td>\n",
       "      <td>0</td>\n",
       "      <td>0</td>\n",
       "      <td>8.5000</td>\n",
       "    </tr>\n",
       "    <tr>\n",
       "      <th>4</th>\n",
       "      <td>2005</td>\n",
       "      <td>1</td>\n",
       "      <td>2</td>\n",
       "      <td>21</td>\n",
       "      <td>60.0</td>\n",
       "      <td>13</td>\n",
       "      <td>20</td>\n",
       "      <td>12.0</td>\n",
       "      <td>14</td>\n",
       "      <td>2</td>\n",
       "      <td>...</td>\n",
       "      <td>0</td>\n",
       "      <td>1</td>\n",
       "      <td>0</td>\n",
       "      <td>0</td>\n",
       "      <td>0</td>\n",
       "      <td>0</td>\n",
       "      <td>0</td>\n",
       "      <td>0</td>\n",
       "      <td>0</td>\n",
       "      <td>9.0000</td>\n",
       "    </tr>\n",
       "    <tr>\n",
       "      <th>...</th>\n",
       "      <td>...</td>\n",
       "      <td>...</td>\n",
       "      <td>...</td>\n",
       "      <td>...</td>\n",
       "      <td>...</td>\n",
       "      <td>...</td>\n",
       "      <td>...</td>\n",
       "      <td>...</td>\n",
       "      <td>...</td>\n",
       "      <td>...</td>\n",
       "      <td>...</td>\n",
       "      <td>...</td>\n",
       "      <td>...</td>\n",
       "      <td>...</td>\n",
       "      <td>...</td>\n",
       "      <td>...</td>\n",
       "      <td>...</td>\n",
       "      <td>...</td>\n",
       "      <td>...</td>\n",
       "      <td>...</td>\n",
       "      <td>...</td>\n",
       "    </tr>\n",
       "    <tr>\n",
       "      <th>101395</th>\n",
       "      <td>103396</td>\n",
       "      <td>1</td>\n",
       "      <td>2</td>\n",
       "      <td>36</td>\n",
       "      <td>0.0</td>\n",
       "      <td>9</td>\n",
       "      <td>34</td>\n",
       "      <td>3.0</td>\n",
       "      <td>12</td>\n",
       "      <td>4</td>\n",
       "      <td>...</td>\n",
       "      <td>0</td>\n",
       "      <td>0</td>\n",
       "      <td>0</td>\n",
       "      <td>0</td>\n",
       "      <td>0</td>\n",
       "      <td>0</td>\n",
       "      <td>0</td>\n",
       "      <td>0</td>\n",
       "      <td>0</td>\n",
       "      <td>9.1250</td>\n",
       "    </tr>\n",
       "    <tr>\n",
       "      <th>101396</th>\n",
       "      <td>103397</td>\n",
       "      <td>2</td>\n",
       "      <td>2</td>\n",
       "      <td>21</td>\n",
       "      <td>39.0</td>\n",
       "      <td>11</td>\n",
       "      <td>19</td>\n",
       "      <td>12.0</td>\n",
       "      <td>9</td>\n",
       "      <td>2</td>\n",
       "      <td>...</td>\n",
       "      <td>0</td>\n",
       "      <td>0</td>\n",
       "      <td>0</td>\n",
       "      <td>0</td>\n",
       "      <td>0</td>\n",
       "      <td>0</td>\n",
       "      <td>0</td>\n",
       "      <td>0</td>\n",
       "      <td>0</td>\n",
       "      <td>7.3750</td>\n",
       "    </tr>\n",
       "    <tr>\n",
       "      <th>101397</th>\n",
       "      <td>103398</td>\n",
       "      <td>2</td>\n",
       "      <td>1</td>\n",
       "      <td>27</td>\n",
       "      <td>37.0</td>\n",
       "      <td>15</td>\n",
       "      <td>22</td>\n",
       "      <td>12.0</td>\n",
       "      <td>12</td>\n",
       "      <td>2</td>\n",
       "      <td>...</td>\n",
       "      <td>0</td>\n",
       "      <td>0</td>\n",
       "      <td>0</td>\n",
       "      <td>0</td>\n",
       "      <td>0</td>\n",
       "      <td>0</td>\n",
       "      <td>0</td>\n",
       "      <td>0</td>\n",
       "      <td>0</td>\n",
       "      <td>7.5000</td>\n",
       "    </tr>\n",
       "    <tr>\n",
       "      <th>101398</th>\n",
       "      <td>103399</td>\n",
       "      <td>1</td>\n",
       "      <td>1</td>\n",
       "      <td>27</td>\n",
       "      <td>26.0</td>\n",
       "      <td>12</td>\n",
       "      <td>24</td>\n",
       "      <td>12.0</td>\n",
       "      <td>14</td>\n",
       "      <td>1</td>\n",
       "      <td>...</td>\n",
       "      <td>0</td>\n",
       "      <td>0</td>\n",
       "      <td>0</td>\n",
       "      <td>0</td>\n",
       "      <td>0</td>\n",
       "      <td>0</td>\n",
       "      <td>0</td>\n",
       "      <td>0</td>\n",
       "      <td>0</td>\n",
       "      <td>7.6250</td>\n",
       "    </tr>\n",
       "    <tr>\n",
       "      <th>101399</th>\n",
       "      <td>103400</td>\n",
       "      <td>1</td>\n",
       "      <td>2</td>\n",
       "      <td>20</td>\n",
       "      <td>31.0</td>\n",
       "      <td>15</td>\n",
       "      <td>17</td>\n",
       "      <td>12.0</td>\n",
       "      <td>11</td>\n",
       "      <td>1</td>\n",
       "      <td>...</td>\n",
       "      <td>0</td>\n",
       "      <td>0</td>\n",
       "      <td>0</td>\n",
       "      <td>0</td>\n",
       "      <td>0</td>\n",
       "      <td>0</td>\n",
       "      <td>0</td>\n",
       "      <td>0</td>\n",
       "      <td>0</td>\n",
       "      <td>6.2500</td>\n",
       "    </tr>\n",
       "  </tbody>\n",
       "</table>\n",
       "<p>101400 rows × 37 columns</p>\n",
       "</div>"
      ],
      "text/plain": [
       "            ID  SEX  MARITAL  FAGE  GAINED  VISITS  MAGE  FEDUC  MEDUC  \\\n",
       "0         2001    2        1    33    26.0      10    34   12.0      4   \n",
       "1         2002    2        2    19    40.0      10    18   11.0     12   \n",
       "2         2003    2        1    33    16.0      14    31   16.0     16   \n",
       "3         2004    1        1    25    40.0      15    28   12.0     12   \n",
       "4         2005    1        2    21    60.0      13    20   12.0     14   \n",
       "...        ...  ...      ...   ...     ...     ...   ...    ...    ...   \n",
       "101395  103396    1        2    36     0.0       9    34    3.0     12   \n",
       "101396  103397    2        2    21    39.0      11    19   12.0      9   \n",
       "101397  103398    2        1    27    37.0      15    22   12.0     12   \n",
       "101398  103399    1        1    27    26.0      12    24   12.0     14   \n",
       "101399  103400    1        2    20    31.0      15    17   12.0     11   \n",
       "\n",
       "        TOTALP  ...  HYPERCH  HYPERPR  ECLAMP  CERVIX  PINFANT  PRETERM RENAL  \\\n",
       "0            2  ...        0        0       0       0        0        0     0   \n",
       "1            1  ...        0        0       0       0        0        0     0   \n",
       "2            2  ...        0        0       0       0        0        0     0   \n",
       "3            3  ...        0        0       0       0        0        0     0   \n",
       "4            2  ...        0        1       0       0        0        0     0   \n",
       "...        ...  ...      ...      ...     ...     ...      ...      ...   ...   \n",
       "101395       4  ...        0        0       0       0        0        0     0   \n",
       "101396       2  ...        0        0       0       0        0        0     0   \n",
       "101397       2  ...        0        0       0       0        0        0     0   \n",
       "101398       1  ...        0        0       0       0        0        0     0   \n",
       "101399       1  ...        0        0       0       0        0        0     0   \n",
       "\n",
       "       RHSEN  UTERINE  BWEIGHT  \n",
       "0          0        0   4.3750  \n",
       "1          0        0   6.9375  \n",
       "2          0        0   8.5000  \n",
       "3          0        0   8.5000  \n",
       "4          0        0   9.0000  \n",
       "...      ...      ...      ...  \n",
       "101395     0        0   9.1250  \n",
       "101396     0        0   7.3750  \n",
       "101397     0        0   7.5000  \n",
       "101398     0        0   7.6250  \n",
       "101399     0        0   6.2500  \n",
       "\n",
       "[101400 rows x 37 columns]"
      ]
     },
     "execution_count": 1,
     "metadata": {},
     "output_type": "execute_result"
    }
   ],
   "source": [
    "import pandas as pd\n",
    "df = pd.read_csv('baby-weights-dataset.csv')\n",
    "df"
   ]
  },
  {
   "cell_type": "code",
   "execution_count": null,
   "metadata": {},
   "outputs": [],
   "source": []
  },
  {
   "cell_type": "code",
   "execution_count": 5,
   "metadata": {},
   "outputs": [
    {
     "name": "stdout",
     "output_type": "stream",
     "text": [
      "<class 'pandas.core.frame.DataFrame'>\n",
      "RangeIndex: 101400 entries, 0 to 101399\n",
      "Data columns (total 37 columns):\n",
      " #   Column    Non-Null Count   Dtype  \n",
      "---  ------    --------------   -----  \n",
      " 0   ID        101400 non-null  int64  \n",
      " 1   SEX       101400 non-null  int64  \n",
      " 2   MARITAL   101400 non-null  int64  \n",
      " 3   FAGE      101400 non-null  int64  \n",
      " 4   GAINED    101399 non-null  float64\n",
      " 5   VISITS    101400 non-null  int64  \n",
      " 6   MAGE      101400 non-null  int64  \n",
      " 7   FEDUC     101399 non-null  float64\n",
      " 8   MEDUC     101400 non-null  int64  \n",
      " 9   TOTALP    101400 non-null  int64  \n",
      " 10  BDEAD     101400 non-null  int64  \n",
      " 11  TERMS     101400 non-null  int64  \n",
      " 12  LOUTCOME  101400 non-null  int64  \n",
      " 13  WEEKS     101399 non-null  float64\n",
      " 14  RACEMOM   101400 non-null  int64  \n",
      " 15  RACEDAD   101400 non-null  int64  \n",
      " 16  HISPMOM   101400 non-null  object \n",
      " 17  HISPDAD   101400 non-null  object \n",
      " 18  CIGNUM    101399 non-null  float64\n",
      " 19  DRINKNUM  101400 non-null  int64  \n",
      " 20  ANEMIA    101400 non-null  int64  \n",
      " 21  CARDIAC   101400 non-null  int64  \n",
      " 22  ACLUNG    101400 non-null  int64  \n",
      " 23  DIABETES  101400 non-null  int64  \n",
      " 24  HERPES    101400 non-null  int64  \n",
      " 25  HYDRAM    101399 non-null  float64\n",
      " 26  HEMOGLOB  101400 non-null  int64  \n",
      " 27  HYPERCH   101400 non-null  int64  \n",
      " 28  HYPERPR   101400 non-null  int64  \n",
      " 29  ECLAMP    101400 non-null  int64  \n",
      " 30  CERVIX    101400 non-null  int64  \n",
      " 31  PINFANT   101400 non-null  int64  \n",
      " 32  PRETERM   101400 non-null  int64  \n",
      " 33  RENAL     101400 non-null  int64  \n",
      " 34  RHSEN     101400 non-null  int64  \n",
      " 35  UTERINE   101400 non-null  int64  \n",
      " 36  BWEIGHT   101400 non-null  float64\n",
      "dtypes: float64(6), int64(29), object(2)\n",
      "memory usage: 28.6+ MB\n"
     ]
    }
   ],
   "source": [
    "df.info()   #columns and there data types "
   ]
  },
  {
   "cell_type": "code",
   "execution_count": 6,
   "metadata": {},
   "outputs": [
    {
     "data": {
      "text/plain": [
       "Index(['ID', 'SEX', 'MARITAL', 'FAGE', 'GAINED', 'VISITS', 'MAGE', 'FEDUC',\n",
       "       'MEDUC', 'TOTALP', 'BDEAD', 'TERMS', 'LOUTCOME', 'WEEKS', 'RACEMOM',\n",
       "       'RACEDAD', 'HISPMOM', 'HISPDAD', 'CIGNUM', 'DRINKNUM', 'ANEMIA',\n",
       "       'CARDIAC', 'ACLUNG', 'DIABETES', 'HERPES', 'HYDRAM', 'HEMOGLOB',\n",
       "       'HYPERCH', 'HYPERPR', 'ECLAMP', 'CERVIX', 'PINFANT', 'PRETERM', 'RENAL',\n",
       "       'RHSEN', 'UTERINE', 'BWEIGHT'],\n",
       "      dtype='object')"
      ]
     },
     "execution_count": 6,
     "metadata": {},
     "output_type": "execute_result"
    }
   ],
   "source": [
    "df.columns\n"
   ]
  },
  {
   "cell_type": "markdown",
   "metadata": {
    "colab_type": "text",
    "id": "03kn7ZrreQlg"
   },
   "source": [
    "##Reducing Data to One State for Ease"
   ]
  },
  {
   "cell_type": "code",
   "execution_count": 7,
   "metadata": {
    "colab": {},
    "colab_type": "code",
    "id": "PAB2PI8DeWTh"
   },
   "outputs": [],
   "source": [
    "#df = df[df['state_names'] == \"Maharashtra\"]\n",
    "\n",
    "#df.info()"
   ]
  },
  {
   "cell_type": "code",
   "execution_count": 8,
   "metadata": {},
   "outputs": [
    {
     "name": "stdout",
     "output_type": "stream",
     "text": [
      "<class 'pandas.core.frame.DataFrame'>\n",
      "RangeIndex: 101400 entries, 0 to 101399\n",
      "Data columns (total 37 columns):\n",
      " #   Column    Non-Null Count   Dtype  \n",
      "---  ------    --------------   -----  \n",
      " 0   ID        101400 non-null  int64  \n",
      " 1   SEX       101400 non-null  int64  \n",
      " 2   MARITAL   101400 non-null  int64  \n",
      " 3   FAGE      101400 non-null  int64  \n",
      " 4   GAINED    101399 non-null  float64\n",
      " 5   VISITS    101400 non-null  int64  \n",
      " 6   MAGE      101400 non-null  int64  \n",
      " 7   FEDUC     101399 non-null  float64\n",
      " 8   MEDUC     101400 non-null  int64  \n",
      " 9   TOTALP    101400 non-null  int64  \n",
      " 10  BDEAD     101400 non-null  int64  \n",
      " 11  TERMS     101400 non-null  int64  \n",
      " 12  LOUTCOME  101400 non-null  int64  \n",
      " 13  WEEKS     101399 non-null  float64\n",
      " 14  RACEMOM   101400 non-null  int64  \n",
      " 15  RACEDAD   101400 non-null  int64  \n",
      " 16  HISPMOM   101400 non-null  object \n",
      " 17  HISPDAD   101400 non-null  object \n",
      " 18  CIGNUM    101399 non-null  float64\n",
      " 19  DRINKNUM  101400 non-null  int64  \n",
      " 20  ANEMIA    101400 non-null  int64  \n",
      " 21  CARDIAC   101400 non-null  int64  \n",
      " 22  ACLUNG    101400 non-null  int64  \n",
      " 23  DIABETES  101400 non-null  int64  \n",
      " 24  HERPES    101400 non-null  int64  \n",
      " 25  HYDRAM    101399 non-null  float64\n",
      " 26  HEMOGLOB  101400 non-null  int64  \n",
      " 27  HYPERCH   101400 non-null  int64  \n",
      " 28  HYPERPR   101400 non-null  int64  \n",
      " 29  ECLAMP    101400 non-null  int64  \n",
      " 30  CERVIX    101400 non-null  int64  \n",
      " 31  PINFANT   101400 non-null  int64  \n",
      " 32  PRETERM   101400 non-null  int64  \n",
      " 33  RENAL     101400 non-null  int64  \n",
      " 34  RHSEN     101400 non-null  int64  \n",
      " 35  UTERINE   101400 non-null  int64  \n",
      " 36  BWEIGHT   101400 non-null  float64\n",
      "dtypes: float64(6), int64(29), object(2)\n",
      "memory usage: 28.6+ MB\n"
     ]
    }
   ],
   "source": [
    "df.info()"
   ]
  },
  {
   "cell_type": "code",
   "execution_count": 9,
   "metadata": {},
   "outputs": [
    {
     "data": {
      "text/plain": [
       "ID          0\n",
       "SEX         0\n",
       "MARITAL     0\n",
       "FAGE        0\n",
       "GAINED      1\n",
       "VISITS      0\n",
       "MAGE        0\n",
       "FEDUC       1\n",
       "MEDUC       0\n",
       "TOTALP      0\n",
       "BDEAD       0\n",
       "TERMS       0\n",
       "LOUTCOME    0\n",
       "WEEKS       1\n",
       "RACEMOM     0\n",
       "RACEDAD     0\n",
       "HISPMOM     0\n",
       "HISPDAD     0\n",
       "CIGNUM      1\n",
       "DRINKNUM    0\n",
       "ANEMIA      0\n",
       "CARDIAC     0\n",
       "ACLUNG      0\n",
       "DIABETES    0\n",
       "HERPES      0\n",
       "HYDRAM      1\n",
       "HEMOGLOB    0\n",
       "HYPERCH     0\n",
       "HYPERPR     0\n",
       "ECLAMP      0\n",
       "CERVIX      0\n",
       "PINFANT     0\n",
       "PRETERM     0\n",
       "RENAL       0\n",
       "RHSEN       0\n",
       "UTERINE     0\n",
       "BWEIGHT     0\n",
       "dtype: int64"
      ]
     },
     "execution_count": 9,
     "metadata": {},
     "output_type": "execute_result"
    }
   ],
   "source": [
    "df.isnull().sum()"
   ]
  },
  {
   "cell_type": "code",
   "execution_count": 10,
   "metadata": {},
   "outputs": [
    {
     "data": {
      "text/html": [
       "<div>\n",
       "<style scoped>\n",
       "    .dataframe tbody tr th:only-of-type {\n",
       "        vertical-align: middle;\n",
       "    }\n",
       "\n",
       "    .dataframe tbody tr th {\n",
       "        vertical-align: top;\n",
       "    }\n",
       "\n",
       "    .dataframe thead th {\n",
       "        text-align: right;\n",
       "    }\n",
       "</style>\n",
       "<table border=\"1\" class=\"dataframe\">\n",
       "  <thead>\n",
       "    <tr style=\"text-align: right;\">\n",
       "      <th></th>\n",
       "      <th>ID</th>\n",
       "      <th>SEX</th>\n",
       "      <th>MARITAL</th>\n",
       "      <th>FAGE</th>\n",
       "      <th>GAINED</th>\n",
       "      <th>VISITS</th>\n",
       "      <th>MAGE</th>\n",
       "      <th>FEDUC</th>\n",
       "      <th>MEDUC</th>\n",
       "      <th>TOTALP</th>\n",
       "      <th>...</th>\n",
       "      <th>HYPERCH</th>\n",
       "      <th>HYPERPR</th>\n",
       "      <th>ECLAMP</th>\n",
       "      <th>CERVIX</th>\n",
       "      <th>PINFANT</th>\n",
       "      <th>PRETERM</th>\n",
       "      <th>RENAL</th>\n",
       "      <th>RHSEN</th>\n",
       "      <th>UTERINE</th>\n",
       "      <th>BWEIGHT</th>\n",
       "    </tr>\n",
       "  </thead>\n",
       "  <tbody>\n",
       "    <tr>\n",
       "      <th>0</th>\n",
       "      <td>2001</td>\n",
       "      <td>2</td>\n",
       "      <td>1</td>\n",
       "      <td>33</td>\n",
       "      <td>26.0</td>\n",
       "      <td>10</td>\n",
       "      <td>34</td>\n",
       "      <td>12.0</td>\n",
       "      <td>4</td>\n",
       "      <td>2</td>\n",
       "      <td>...</td>\n",
       "      <td>0</td>\n",
       "      <td>0</td>\n",
       "      <td>0</td>\n",
       "      <td>0</td>\n",
       "      <td>0</td>\n",
       "      <td>0</td>\n",
       "      <td>0</td>\n",
       "      <td>0</td>\n",
       "      <td>0</td>\n",
       "      <td>4.3750</td>\n",
       "    </tr>\n",
       "    <tr>\n",
       "      <th>1</th>\n",
       "      <td>2002</td>\n",
       "      <td>2</td>\n",
       "      <td>2</td>\n",
       "      <td>19</td>\n",
       "      <td>40.0</td>\n",
       "      <td>10</td>\n",
       "      <td>18</td>\n",
       "      <td>11.0</td>\n",
       "      <td>12</td>\n",
       "      <td>1</td>\n",
       "      <td>...</td>\n",
       "      <td>0</td>\n",
       "      <td>0</td>\n",
       "      <td>0</td>\n",
       "      <td>0</td>\n",
       "      <td>0</td>\n",
       "      <td>0</td>\n",
       "      <td>0</td>\n",
       "      <td>0</td>\n",
       "      <td>0</td>\n",
       "      <td>6.9375</td>\n",
       "    </tr>\n",
       "    <tr>\n",
       "      <th>2</th>\n",
       "      <td>2003</td>\n",
       "      <td>2</td>\n",
       "      <td>1</td>\n",
       "      <td>33</td>\n",
       "      <td>16.0</td>\n",
       "      <td>14</td>\n",
       "      <td>31</td>\n",
       "      <td>16.0</td>\n",
       "      <td>16</td>\n",
       "      <td>2</td>\n",
       "      <td>...</td>\n",
       "      <td>0</td>\n",
       "      <td>0</td>\n",
       "      <td>0</td>\n",
       "      <td>0</td>\n",
       "      <td>0</td>\n",
       "      <td>0</td>\n",
       "      <td>0</td>\n",
       "      <td>0</td>\n",
       "      <td>0</td>\n",
       "      <td>8.5000</td>\n",
       "    </tr>\n",
       "    <tr>\n",
       "      <th>3</th>\n",
       "      <td>2004</td>\n",
       "      <td>1</td>\n",
       "      <td>1</td>\n",
       "      <td>25</td>\n",
       "      <td>40.0</td>\n",
       "      <td>15</td>\n",
       "      <td>28</td>\n",
       "      <td>12.0</td>\n",
       "      <td>12</td>\n",
       "      <td>3</td>\n",
       "      <td>...</td>\n",
       "      <td>0</td>\n",
       "      <td>0</td>\n",
       "      <td>0</td>\n",
       "      <td>0</td>\n",
       "      <td>0</td>\n",
       "      <td>0</td>\n",
       "      <td>0</td>\n",
       "      <td>0</td>\n",
       "      <td>0</td>\n",
       "      <td>8.5000</td>\n",
       "    </tr>\n",
       "    <tr>\n",
       "      <th>4</th>\n",
       "      <td>2005</td>\n",
       "      <td>1</td>\n",
       "      <td>2</td>\n",
       "      <td>21</td>\n",
       "      <td>60.0</td>\n",
       "      <td>13</td>\n",
       "      <td>20</td>\n",
       "      <td>12.0</td>\n",
       "      <td>14</td>\n",
       "      <td>2</td>\n",
       "      <td>...</td>\n",
       "      <td>0</td>\n",
       "      <td>1</td>\n",
       "      <td>0</td>\n",
       "      <td>0</td>\n",
       "      <td>0</td>\n",
       "      <td>0</td>\n",
       "      <td>0</td>\n",
       "      <td>0</td>\n",
       "      <td>0</td>\n",
       "      <td>9.0000</td>\n",
       "    </tr>\n",
       "    <tr>\n",
       "      <th>5</th>\n",
       "      <td>2006</td>\n",
       "      <td>1</td>\n",
       "      <td>1</td>\n",
       "      <td>21</td>\n",
       "      <td>30.0</td>\n",
       "      <td>15</td>\n",
       "      <td>21</td>\n",
       "      <td>12.0</td>\n",
       "      <td>13</td>\n",
       "      <td>1</td>\n",
       "      <td>...</td>\n",
       "      <td>0</td>\n",
       "      <td>0</td>\n",
       "      <td>0</td>\n",
       "      <td>0</td>\n",
       "      <td>0</td>\n",
       "      <td>0</td>\n",
       "      <td>0</td>\n",
       "      <td>0</td>\n",
       "      <td>0</td>\n",
       "      <td>8.0000</td>\n",
       "    </tr>\n",
       "  </tbody>\n",
       "</table>\n",
       "<p>6 rows × 37 columns</p>\n",
       "</div>"
      ],
      "text/plain": [
       "     ID  SEX  MARITAL  FAGE  GAINED  VISITS  MAGE  FEDUC  MEDUC  TOTALP  ...  \\\n",
       "0  2001    2        1    33    26.0      10    34   12.0      4       2  ...   \n",
       "1  2002    2        2    19    40.0      10    18   11.0     12       1  ...   \n",
       "2  2003    2        1    33    16.0      14    31   16.0     16       2  ...   \n",
       "3  2004    1        1    25    40.0      15    28   12.0     12       3  ...   \n",
       "4  2005    1        2    21    60.0      13    20   12.0     14       2  ...   \n",
       "5  2006    1        1    21    30.0      15    21   12.0     13       1  ...   \n",
       "\n",
       "   HYPERCH  HYPERPR  ECLAMP  CERVIX  PINFANT  PRETERM RENAL RHSEN  UTERINE  \\\n",
       "0        0        0       0       0        0        0     0     0        0   \n",
       "1        0        0       0       0        0        0     0     0        0   \n",
       "2        0        0       0       0        0        0     0     0        0   \n",
       "3        0        0       0       0        0        0     0     0        0   \n",
       "4        0        1       0       0        0        0     0     0        0   \n",
       "5        0        0       0       0        0        0     0     0        0   \n",
       "\n",
       "   BWEIGHT  \n",
       "0   4.3750  \n",
       "1   6.9375  \n",
       "2   8.5000  \n",
       "3   8.5000  \n",
       "4   9.0000  \n",
       "5   8.0000  \n",
       "\n",
       "[6 rows x 37 columns]"
      ]
     },
     "execution_count": 10,
     "metadata": {},
     "output_type": "execute_result"
    }
   ],
   "source": [
    "df.head(6)"
   ]
  },
  {
   "cell_type": "markdown",
   "metadata": {
    "colab_type": "text",
    "id": "AJTAfF6lPEH8"
   },
   "source": [
    "###Making Yield Column"
   ]
  },
  {
   "cell_type": "code",
   "execution_count": 11,
   "metadata": {},
   "outputs": [
    {
     "data": {
      "text/html": [
       "<div>\n",
       "<style scoped>\n",
       "    .dataframe tbody tr th:only-of-type {\n",
       "        vertical-align: middle;\n",
       "    }\n",
       "\n",
       "    .dataframe tbody tr th {\n",
       "        vertical-align: top;\n",
       "    }\n",
       "\n",
       "    .dataframe thead th {\n",
       "        text-align: right;\n",
       "    }\n",
       "</style>\n",
       "<table border=\"1\" class=\"dataframe\">\n",
       "  <thead>\n",
       "    <tr style=\"text-align: right;\">\n",
       "      <th></th>\n",
       "      <th>ID</th>\n",
       "      <th>SEX</th>\n",
       "      <th>MARITAL</th>\n",
       "      <th>FAGE</th>\n",
       "      <th>GAINED</th>\n",
       "      <th>VISITS</th>\n",
       "      <th>MAGE</th>\n",
       "      <th>FEDUC</th>\n",
       "      <th>MEDUC</th>\n",
       "      <th>TOTALP</th>\n",
       "      <th>...</th>\n",
       "      <th>HYPERCH</th>\n",
       "      <th>HYPERPR</th>\n",
       "      <th>ECLAMP</th>\n",
       "      <th>CERVIX</th>\n",
       "      <th>PINFANT</th>\n",
       "      <th>PRETERM</th>\n",
       "      <th>RENAL</th>\n",
       "      <th>RHSEN</th>\n",
       "      <th>UTERINE</th>\n",
       "      <th>BWEIGHT</th>\n",
       "    </tr>\n",
       "  </thead>\n",
       "  <tbody>\n",
       "    <tr>\n",
       "      <th>0</th>\n",
       "      <td>2001</td>\n",
       "      <td>2</td>\n",
       "      <td>1</td>\n",
       "      <td>33</td>\n",
       "      <td>26.0</td>\n",
       "      <td>10</td>\n",
       "      <td>34</td>\n",
       "      <td>12.0</td>\n",
       "      <td>4</td>\n",
       "      <td>2</td>\n",
       "      <td>...</td>\n",
       "      <td>0</td>\n",
       "      <td>0</td>\n",
       "      <td>0</td>\n",
       "      <td>0</td>\n",
       "      <td>0</td>\n",
       "      <td>0</td>\n",
       "      <td>0</td>\n",
       "      <td>0</td>\n",
       "      <td>0</td>\n",
       "      <td>4.3750</td>\n",
       "    </tr>\n",
       "    <tr>\n",
       "      <th>1</th>\n",
       "      <td>2002</td>\n",
       "      <td>2</td>\n",
       "      <td>2</td>\n",
       "      <td>19</td>\n",
       "      <td>40.0</td>\n",
       "      <td>10</td>\n",
       "      <td>18</td>\n",
       "      <td>11.0</td>\n",
       "      <td>12</td>\n",
       "      <td>1</td>\n",
       "      <td>...</td>\n",
       "      <td>0</td>\n",
       "      <td>0</td>\n",
       "      <td>0</td>\n",
       "      <td>0</td>\n",
       "      <td>0</td>\n",
       "      <td>0</td>\n",
       "      <td>0</td>\n",
       "      <td>0</td>\n",
       "      <td>0</td>\n",
       "      <td>6.9375</td>\n",
       "    </tr>\n",
       "    <tr>\n",
       "      <th>2</th>\n",
       "      <td>2003</td>\n",
       "      <td>2</td>\n",
       "      <td>1</td>\n",
       "      <td>33</td>\n",
       "      <td>16.0</td>\n",
       "      <td>14</td>\n",
       "      <td>31</td>\n",
       "      <td>16.0</td>\n",
       "      <td>16</td>\n",
       "      <td>2</td>\n",
       "      <td>...</td>\n",
       "      <td>0</td>\n",
       "      <td>0</td>\n",
       "      <td>0</td>\n",
       "      <td>0</td>\n",
       "      <td>0</td>\n",
       "      <td>0</td>\n",
       "      <td>0</td>\n",
       "      <td>0</td>\n",
       "      <td>0</td>\n",
       "      <td>8.5000</td>\n",
       "    </tr>\n",
       "    <tr>\n",
       "      <th>3</th>\n",
       "      <td>2004</td>\n",
       "      <td>1</td>\n",
       "      <td>1</td>\n",
       "      <td>25</td>\n",
       "      <td>40.0</td>\n",
       "      <td>15</td>\n",
       "      <td>28</td>\n",
       "      <td>12.0</td>\n",
       "      <td>12</td>\n",
       "      <td>3</td>\n",
       "      <td>...</td>\n",
       "      <td>0</td>\n",
       "      <td>0</td>\n",
       "      <td>0</td>\n",
       "      <td>0</td>\n",
       "      <td>0</td>\n",
       "      <td>0</td>\n",
       "      <td>0</td>\n",
       "      <td>0</td>\n",
       "      <td>0</td>\n",
       "      <td>8.5000</td>\n",
       "    </tr>\n",
       "    <tr>\n",
       "      <th>4</th>\n",
       "      <td>2005</td>\n",
       "      <td>1</td>\n",
       "      <td>2</td>\n",
       "      <td>21</td>\n",
       "      <td>60.0</td>\n",
       "      <td>13</td>\n",
       "      <td>20</td>\n",
       "      <td>12.0</td>\n",
       "      <td>14</td>\n",
       "      <td>2</td>\n",
       "      <td>...</td>\n",
       "      <td>0</td>\n",
       "      <td>1</td>\n",
       "      <td>0</td>\n",
       "      <td>0</td>\n",
       "      <td>0</td>\n",
       "      <td>0</td>\n",
       "      <td>0</td>\n",
       "      <td>0</td>\n",
       "      <td>0</td>\n",
       "      <td>9.0000</td>\n",
       "    </tr>\n",
       "    <tr>\n",
       "      <th>...</th>\n",
       "      <td>...</td>\n",
       "      <td>...</td>\n",
       "      <td>...</td>\n",
       "      <td>...</td>\n",
       "      <td>...</td>\n",
       "      <td>...</td>\n",
       "      <td>...</td>\n",
       "      <td>...</td>\n",
       "      <td>...</td>\n",
       "      <td>...</td>\n",
       "      <td>...</td>\n",
       "      <td>...</td>\n",
       "      <td>...</td>\n",
       "      <td>...</td>\n",
       "      <td>...</td>\n",
       "      <td>...</td>\n",
       "      <td>...</td>\n",
       "      <td>...</td>\n",
       "      <td>...</td>\n",
       "      <td>...</td>\n",
       "      <td>...</td>\n",
       "    </tr>\n",
       "    <tr>\n",
       "      <th>101395</th>\n",
       "      <td>103396</td>\n",
       "      <td>1</td>\n",
       "      <td>2</td>\n",
       "      <td>36</td>\n",
       "      <td>0.0</td>\n",
       "      <td>9</td>\n",
       "      <td>34</td>\n",
       "      <td>3.0</td>\n",
       "      <td>12</td>\n",
       "      <td>4</td>\n",
       "      <td>...</td>\n",
       "      <td>0</td>\n",
       "      <td>0</td>\n",
       "      <td>0</td>\n",
       "      <td>0</td>\n",
       "      <td>0</td>\n",
       "      <td>0</td>\n",
       "      <td>0</td>\n",
       "      <td>0</td>\n",
       "      <td>0</td>\n",
       "      <td>9.1250</td>\n",
       "    </tr>\n",
       "    <tr>\n",
       "      <th>101396</th>\n",
       "      <td>103397</td>\n",
       "      <td>2</td>\n",
       "      <td>2</td>\n",
       "      <td>21</td>\n",
       "      <td>39.0</td>\n",
       "      <td>11</td>\n",
       "      <td>19</td>\n",
       "      <td>12.0</td>\n",
       "      <td>9</td>\n",
       "      <td>2</td>\n",
       "      <td>...</td>\n",
       "      <td>0</td>\n",
       "      <td>0</td>\n",
       "      <td>0</td>\n",
       "      <td>0</td>\n",
       "      <td>0</td>\n",
       "      <td>0</td>\n",
       "      <td>0</td>\n",
       "      <td>0</td>\n",
       "      <td>0</td>\n",
       "      <td>7.3750</td>\n",
       "    </tr>\n",
       "    <tr>\n",
       "      <th>101397</th>\n",
       "      <td>103398</td>\n",
       "      <td>2</td>\n",
       "      <td>1</td>\n",
       "      <td>27</td>\n",
       "      <td>37.0</td>\n",
       "      <td>15</td>\n",
       "      <td>22</td>\n",
       "      <td>12.0</td>\n",
       "      <td>12</td>\n",
       "      <td>2</td>\n",
       "      <td>...</td>\n",
       "      <td>0</td>\n",
       "      <td>0</td>\n",
       "      <td>0</td>\n",
       "      <td>0</td>\n",
       "      <td>0</td>\n",
       "      <td>0</td>\n",
       "      <td>0</td>\n",
       "      <td>0</td>\n",
       "      <td>0</td>\n",
       "      <td>7.5000</td>\n",
       "    </tr>\n",
       "    <tr>\n",
       "      <th>101398</th>\n",
       "      <td>103399</td>\n",
       "      <td>1</td>\n",
       "      <td>1</td>\n",
       "      <td>27</td>\n",
       "      <td>26.0</td>\n",
       "      <td>12</td>\n",
       "      <td>24</td>\n",
       "      <td>12.0</td>\n",
       "      <td>14</td>\n",
       "      <td>1</td>\n",
       "      <td>...</td>\n",
       "      <td>0</td>\n",
       "      <td>0</td>\n",
       "      <td>0</td>\n",
       "      <td>0</td>\n",
       "      <td>0</td>\n",
       "      <td>0</td>\n",
       "      <td>0</td>\n",
       "      <td>0</td>\n",
       "      <td>0</td>\n",
       "      <td>7.6250</td>\n",
       "    </tr>\n",
       "    <tr>\n",
       "      <th>101399</th>\n",
       "      <td>103400</td>\n",
       "      <td>1</td>\n",
       "      <td>2</td>\n",
       "      <td>20</td>\n",
       "      <td>31.0</td>\n",
       "      <td>15</td>\n",
       "      <td>17</td>\n",
       "      <td>12.0</td>\n",
       "      <td>11</td>\n",
       "      <td>1</td>\n",
       "      <td>...</td>\n",
       "      <td>0</td>\n",
       "      <td>0</td>\n",
       "      <td>0</td>\n",
       "      <td>0</td>\n",
       "      <td>0</td>\n",
       "      <td>0</td>\n",
       "      <td>0</td>\n",
       "      <td>0</td>\n",
       "      <td>0</td>\n",
       "      <td>6.2500</td>\n",
       "    </tr>\n",
       "  </tbody>\n",
       "</table>\n",
       "<p>101400 rows × 37 columns</p>\n",
       "</div>"
      ],
      "text/plain": [
       "            ID  SEX  MARITAL  FAGE  GAINED  VISITS  MAGE  FEDUC  MEDUC  \\\n",
       "0         2001    2        1    33    26.0      10    34   12.0      4   \n",
       "1         2002    2        2    19    40.0      10    18   11.0     12   \n",
       "2         2003    2        1    33    16.0      14    31   16.0     16   \n",
       "3         2004    1        1    25    40.0      15    28   12.0     12   \n",
       "4         2005    1        2    21    60.0      13    20   12.0     14   \n",
       "...        ...  ...      ...   ...     ...     ...   ...    ...    ...   \n",
       "101395  103396    1        2    36     0.0       9    34    3.0     12   \n",
       "101396  103397    2        2    21    39.0      11    19   12.0      9   \n",
       "101397  103398    2        1    27    37.0      15    22   12.0     12   \n",
       "101398  103399    1        1    27    26.0      12    24   12.0     14   \n",
       "101399  103400    1        2    20    31.0      15    17   12.0     11   \n",
       "\n",
       "        TOTALP  ...  HYPERCH  HYPERPR  ECLAMP  CERVIX  PINFANT  PRETERM RENAL  \\\n",
       "0            2  ...        0        0       0       0        0        0     0   \n",
       "1            1  ...        0        0       0       0        0        0     0   \n",
       "2            2  ...        0        0       0       0        0        0     0   \n",
       "3            3  ...        0        0       0       0        0        0     0   \n",
       "4            2  ...        0        1       0       0        0        0     0   \n",
       "...        ...  ...      ...      ...     ...     ...      ...      ...   ...   \n",
       "101395       4  ...        0        0       0       0        0        0     0   \n",
       "101396       2  ...        0        0       0       0        0        0     0   \n",
       "101397       2  ...        0        0       0       0        0        0     0   \n",
       "101398       1  ...        0        0       0       0        0        0     0   \n",
       "101399       1  ...        0        0       0       0        0        0     0   \n",
       "\n",
       "       RHSEN  UTERINE  BWEIGHT  \n",
       "0          0        0   4.3750  \n",
       "1          0        0   6.9375  \n",
       "2          0        0   8.5000  \n",
       "3          0        0   8.5000  \n",
       "4          0        0   9.0000  \n",
       "...      ...      ...      ...  \n",
       "101395     0        0   9.1250  \n",
       "101396     0        0   7.3750  \n",
       "101397     0        0   7.5000  \n",
       "101398     0        0   7.6250  \n",
       "101399     0        0   6.2500  \n",
       "\n",
       "[101400 rows x 37 columns]"
      ]
     },
     "execution_count": 11,
     "metadata": {},
     "output_type": "execute_result"
    }
   ],
   "source": [
    "df"
   ]
  },
  {
   "cell_type": "code",
   "execution_count": 12,
   "metadata": {},
   "outputs": [],
   "source": [
    "import seaborn as sns\n"
   ]
  },
  {
   "cell_type": "code",
   "execution_count": 13,
   "metadata": {},
   "outputs": [
    {
     "data": {
      "text/plain": [
       "Index(['ID', 'SEX', 'MARITAL', 'FAGE', 'GAINED', 'VISITS', 'MAGE', 'FEDUC',\n",
       "       'MEDUC', 'TOTALP', 'BDEAD', 'TERMS', 'LOUTCOME', 'WEEKS', 'RACEMOM',\n",
       "       'RACEDAD', 'HISPMOM', 'HISPDAD', 'CIGNUM', 'DRINKNUM', 'ANEMIA',\n",
       "       'CARDIAC', 'ACLUNG', 'DIABETES', 'HERPES', 'HYDRAM', 'HEMOGLOB',\n",
       "       'HYPERCH', 'HYPERPR', 'ECLAMP', 'CERVIX', 'PINFANT', 'PRETERM', 'RENAL',\n",
       "       'RHSEN', 'UTERINE', 'BWEIGHT'],\n",
       "      dtype='object')"
      ]
     },
     "execution_count": 13,
     "metadata": {},
     "output_type": "execute_result"
    }
   ],
   "source": [
    "df.columns"
   ]
  },
  {
   "cell_type": "code",
   "execution_count": 11,
   "metadata": {},
   "outputs": [
    {
     "data": {
      "image/png": "[encoded data removed]",
      "text/plain": [
       "<Figure size 360x360 with 1 Axes>"
      ]
     },
     "metadata": {
      "needs_background": "light"
     },
     "output_type": "display_data"
    }
   ],
   "source": [
    "sns.relplot(x=\"MAGE\", y=\"BWEIGHT\" ,data=df,kind=\"line\");"
   ]
  },
  {
   "cell_type": "code",
   "execution_count": 12,
   "metadata": {},
   "outputs": [
    {
     "data": {
      "image/png": "[encoded data removed]",
      "text/plain": [
       "<Figure size 360x360 with 1 Axes>"
      ]
     },
     "metadata": {
      "needs_background": "light"
     },
     "output_type": "display_data"
    }
   ],
   "source": [
    "#graphical analysis\n",
    "sns.relplot(x=\"GAINED\", y=\"BWEIGHT\", kind=\"line\" , data=df);"
   ]
  },
  {
   "cell_type": "code",
   "execution_count": 13,
   "metadata": {},
   "outputs": [
    {
     "data": {
      "image/png": "[encoded data removed]",
      "text/plain": [
       "<Figure size 360x360 with 1 Axes>"
      ]
     },
     "metadata": {
      "needs_background": "light"
     },
     "output_type": "display_data"
    }
   ],
   "source": [
    "sns.relplot(x=\"TOTALP\",y=\"BWEIGHT\", kind=\"line\" , data=df);"
   ]
  },
  {
   "cell_type": "code",
   "execution_count": 14,
   "metadata": {},
   "outputs": [
    {
     "data": {
      "image/png": "[encoded data removed]",
      "text/plain": [
       "<Figure size 360x360 with 1 Axes>"
      ]
     },
     "metadata": {
      "needs_background": "light"
     },
     "output_type": "display_data"
    }
   ],
   "source": [
    "sns.relplot(x=\"CIGNUM\",y=\"BWEIGHT\", kind=\"line\" , data=df);"
   ]
  },
  {
   "cell_type": "code",
   "execution_count": 15,
   "metadata": {},
   "outputs": [
    {
     "data": {
      "image/png": "[encoded data removed]",
      "text/plain": [
       "<Figure size 360x360 with 1 Axes>"
      ]
     },
     "metadata": {
      "needs_background": "light"
     },
     "output_type": "display_data"
    }
   ],
   "source": [
    "sns.relplot(x=\"DRINKNUM\",y=\"BWEIGHT\", kind=\"line\" , data=df);"
   ]
  },
  {
   "cell_type": "code",
   "execution_count": 16,
   "metadata": {},
   "outputs": [
    {
     "data": {
      "image/png": "[encoded data removed]",
      "text/plain": [
       "<Figure size 360x360 with 1 Axes>"
      ]
     },
     "metadata": {
      "needs_background": "light"
     },
     "output_type": "display_data"
    }
   ],
   "source": [
    "sns.relplot(x=\"ANEMIA\",y=\"BWEIGHT\", kind=\"line\" , data=df);"
   ]
  },
  {
   "cell_type": "code",
   "execution_count": null,
   "metadata": {},
   "outputs": [],
   "source": []
  },
  {
   "cell_type": "code",
   "execution_count": null,
   "metadata": {},
   "outputs": [],
   "source": []
  },
  {
   "cell_type": "code",
   "execution_count": null,
   "metadata": {},
   "outputs": [],
   "source": []
  },
  {
   "cell_type": "code",
   "execution_count": null,
   "metadata": {},
   "outputs": [],
   "source": []
  },
  {
   "cell_type": "code",
   "execution_count": null,
   "metadata": {},
   "outputs": [],
   "source": []
  },
  {
   "cell_type": "code",
   "execution_count": null,
   "metadata": {},
   "outputs": [],
   "source": []
  },
  {
   "cell_type": "code",
   "execution_count": null,
   "metadata": {},
   "outputs": [],
   "source": []
  },
  {
   "cell_type": "code",
   "execution_count": null,
   "metadata": {},
   "outputs": [],
   "source": []
  },
  {
   "cell_type": "markdown",
   "metadata": {
    "colab_type": "text",
    "id": "QvYtwmfjTkrM"
   },
   "source": [
    "##Corelation Heatmap"
   ]
  },
  {
   "cell_type": "code",
   "execution_count": 14,
   "metadata": {
    "colab": {
     "base_uri": "https://localhost:8080/",
     "height": 846
    },
    "colab_type": "code",
    "id": "-_tEdzxdTp-S",
    "outputId": "f45aaac2-cdff-426b-cb14-e98cdf332dbf"
   },
   "outputs": [
    {
     "data": {
      "image/png": "[encoded data removed]",
      "text/plain": [
       "<Figure size 1080x1080 with 2 Axes>"
      ]
     },
     "metadata": {
      "needs_background": "light"
     },
     "output_type": "display_data"
    }
   ],
   "source": [
    "import matplotlib.pyplot as plt\n",
    "import seaborn as sb\n",
    "\n",
    "C_mat = df.corr()\n",
    "fig = plt.figure(figsize = (15,15))\n",
    "\n",
    "sb.heatmap(C_mat, vmax = .8, square = True)\n",
    "plt.show()"
   ]
  },
  {
   "cell_type": "code",
   "execution_count": 15,
   "metadata": {},
   "outputs": [
    {
     "name": "stdout",
     "output_type": "stream",
     "text": [
      "<class 'pandas.core.frame.DataFrame'>\n",
      "RangeIndex: 101400 entries, 0 to 101399\n",
      "Data columns (total 37 columns):\n",
      " #   Column    Non-Null Count   Dtype  \n",
      "---  ------    --------------   -----  \n",
      " 0   ID        101400 non-null  int64  \n",
      " 1   SEX       101400 non-null  int64  \n",
      " 2   MARITAL   101400 non-null  int64  \n",
      " 3   FAGE      101400 non-null  int64  \n",
      " 4   GAINED    101399 non-null  float64\n",
      " 5   VISITS    101400 non-null  int64  \n",
      " 6   MAGE      101400 non-null  int64  \n",
      " 7   FEDUC     101399 non-null  float64\n",
      " 8   MEDUC     101400 non-null  int64  \n",
      " 9   TOTALP    101400 non-null  int64  \n",
      " 10  BDEAD     101400 non-null  int64  \n",
      " 11  TERMS     101400 non-null  int64  \n",
      " 12  LOUTCOME  101400 non-null  int64  \n",
      " 13  WEEKS     101399 non-null  float64\n",
      " 14  RACEMOM   101400 non-null  int64  \n",
      " 15  RACEDAD   101400 non-null  int64  \n",
      " 16  HISPMOM   101400 non-null  object \n",
      " 17  HISPDAD   101400 non-null  object \n",
      " 18  CIGNUM    101399 non-null  float64\n",
      " 19  DRINKNUM  101400 non-null  int64  \n",
      " 20  ANEMIA    101400 non-null  int64  \n",
      " 21  CARDIAC   101400 non-null  int64  \n",
      " 22  ACLUNG    101400 non-null  int64  \n",
      " 23  DIABETES  101400 non-null  int64  \n",
      " 24  HERPES    101400 non-null  int64  \n",
      " 25  HYDRAM    101399 non-null  float64\n",
      " 26  HEMOGLOB  101400 non-null  int64  \n",
      " 27  HYPERCH   101400 non-null  int64  \n",
      " 28  HYPERPR   101400 non-null  int64  \n",
      " 29  ECLAMP    101400 non-null  int64  \n",
      " 30  CERVIX    101400 non-null  int64  \n",
      " 31  PINFANT   101400 non-null  int64  \n",
      " 32  PRETERM   101400 non-null  int64  \n",
      " 33  RENAL     101400 non-null  int64  \n",
      " 34  RHSEN     101400 non-null  int64  \n",
      " 35  UTERINE   101400 non-null  int64  \n",
      " 36  BWEIGHT   101400 non-null  float64\n",
      "dtypes: float64(6), int64(29), object(2)\n",
      "memory usage: 28.6+ MB\n"
     ]
    }
   ],
   "source": [
    "df.info()"
   ]
  },
  {
   "cell_type": "markdown",
   "metadata": {
    "colab_type": "text",
    "id": "iUgVdhZbPPT9"
   },
   "source": [
    "##converting data to numerical form"
   ]
  },
  {
   "cell_type": "code",
   "execution_count": null,
   "metadata": {},
   "outputs": [],
   "source": []
  },
  {
   "cell_type": "code",
   "execution_count": 16,
   "metadata": {},
   "outputs": [],
   "source": [
    "df=df[[\"FAGE\",\"MAGE\",\"GAINED\",\"VISITS\",\"TOTALP\",\"BDEAD\",\"TERMS\",\"LOUTCOME\",\"WEEKS\",\"CIGNUM\",\"DRINKNUM\",\"UTERINE\",\"BWEIGHT\"]].copy()"
   ]
  },
  {
   "cell_type": "code",
   "execution_count": 17,
   "metadata": {},
   "outputs": [
    {
     "data": {
      "text/html": [
       "<div>\n",
       "<style scoped>\n",
       "    .dataframe tbody tr th:only-of-type {\n",
       "        vertical-align: middle;\n",
       "    }\n",
       "\n",
       "    .dataframe tbody tr th {\n",
       "        vertical-align: top;\n",
       "    }\n",
       "\n",
       "    .dataframe thead th {\n",
       "        text-align: right;\n",
       "    }\n",
       "</style>\n",
       "<table border=\"1\" class=\"dataframe\">\n",
       "  <thead>\n",
       "    <tr style=\"text-align: right;\">\n",
       "      <th></th>\n",
       "      <th>FAGE</th>\n",
       "      <th>MAGE</th>\n",
       "      <th>GAINED</th>\n",
       "      <th>VISITS</th>\n",
       "      <th>TOTALP</th>\n",
       "      <th>BDEAD</th>\n",
       "      <th>TERMS</th>\n",
       "      <th>LOUTCOME</th>\n",
       "      <th>WEEKS</th>\n",
       "      <th>CIGNUM</th>\n",
       "      <th>DRINKNUM</th>\n",
       "      <th>UTERINE</th>\n",
       "      <th>BWEIGHT</th>\n",
       "    </tr>\n",
       "  </thead>\n",
       "  <tbody>\n",
       "    <tr>\n",
       "      <th>0</th>\n",
       "      <td>33</td>\n",
       "      <td>34</td>\n",
       "      <td>26.0</td>\n",
       "      <td>10</td>\n",
       "      <td>2</td>\n",
       "      <td>0</td>\n",
       "      <td>0</td>\n",
       "      <td>1</td>\n",
       "      <td>35.0</td>\n",
       "      <td>0.0</td>\n",
       "      <td>0</td>\n",
       "      <td>0</td>\n",
       "      <td>4.3750</td>\n",
       "    </tr>\n",
       "    <tr>\n",
       "      <th>1</th>\n",
       "      <td>19</td>\n",
       "      <td>18</td>\n",
       "      <td>40.0</td>\n",
       "      <td>10</td>\n",
       "      <td>1</td>\n",
       "      <td>0</td>\n",
       "      <td>0</td>\n",
       "      <td>9</td>\n",
       "      <td>41.0</td>\n",
       "      <td>0.0</td>\n",
       "      <td>0</td>\n",
       "      <td>0</td>\n",
       "      <td>6.9375</td>\n",
       "    </tr>\n",
       "    <tr>\n",
       "      <th>2</th>\n",
       "      <td>33</td>\n",
       "      <td>31</td>\n",
       "      <td>16.0</td>\n",
       "      <td>14</td>\n",
       "      <td>2</td>\n",
       "      <td>0</td>\n",
       "      <td>0</td>\n",
       "      <td>1</td>\n",
       "      <td>39.0</td>\n",
       "      <td>0.0</td>\n",
       "      <td>0</td>\n",
       "      <td>0</td>\n",
       "      <td>8.5000</td>\n",
       "    </tr>\n",
       "    <tr>\n",
       "      <th>3</th>\n",
       "      <td>25</td>\n",
       "      <td>28</td>\n",
       "      <td>40.0</td>\n",
       "      <td>15</td>\n",
       "      <td>3</td>\n",
       "      <td>0</td>\n",
       "      <td>0</td>\n",
       "      <td>1</td>\n",
       "      <td>38.0</td>\n",
       "      <td>0.0</td>\n",
       "      <td>0</td>\n",
       "      <td>0</td>\n",
       "      <td>8.5000</td>\n",
       "    </tr>\n",
       "    <tr>\n",
       "      <th>4</th>\n",
       "      <td>21</td>\n",
       "      <td>20</td>\n",
       "      <td>60.0</td>\n",
       "      <td>13</td>\n",
       "      <td>2</td>\n",
       "      <td>0</td>\n",
       "      <td>0</td>\n",
       "      <td>1</td>\n",
       "      <td>40.0</td>\n",
       "      <td>0.0</td>\n",
       "      <td>0</td>\n",
       "      <td>0</td>\n",
       "      <td>9.0000</td>\n",
       "    </tr>\n",
       "    <tr>\n",
       "      <th>...</th>\n",
       "      <td>...</td>\n",
       "      <td>...</td>\n",
       "      <td>...</td>\n",
       "      <td>...</td>\n",
       "      <td>...</td>\n",
       "      <td>...</td>\n",
       "      <td>...</td>\n",
       "      <td>...</td>\n",
       "      <td>...</td>\n",
       "      <td>...</td>\n",
       "      <td>...</td>\n",
       "      <td>...</td>\n",
       "      <td>...</td>\n",
       "    </tr>\n",
       "    <tr>\n",
       "      <th>101395</th>\n",
       "      <td>36</td>\n",
       "      <td>34</td>\n",
       "      <td>0.0</td>\n",
       "      <td>9</td>\n",
       "      <td>4</td>\n",
       "      <td>0</td>\n",
       "      <td>2</td>\n",
       "      <td>1</td>\n",
       "      <td>42.0</td>\n",
       "      <td>0.0</td>\n",
       "      <td>0</td>\n",
       "      <td>0</td>\n",
       "      <td>9.1250</td>\n",
       "    </tr>\n",
       "    <tr>\n",
       "      <th>101396</th>\n",
       "      <td>21</td>\n",
       "      <td>19</td>\n",
       "      <td>39.0</td>\n",
       "      <td>11</td>\n",
       "      <td>2</td>\n",
       "      <td>0</td>\n",
       "      <td>0</td>\n",
       "      <td>1</td>\n",
       "      <td>36.0</td>\n",
       "      <td>5.0</td>\n",
       "      <td>0</td>\n",
       "      <td>0</td>\n",
       "      <td>7.3750</td>\n",
       "    </tr>\n",
       "    <tr>\n",
       "      <th>101397</th>\n",
       "      <td>27</td>\n",
       "      <td>22</td>\n",
       "      <td>37.0</td>\n",
       "      <td>15</td>\n",
       "      <td>2</td>\n",
       "      <td>0</td>\n",
       "      <td>0</td>\n",
       "      <td>1</td>\n",
       "      <td>39.0</td>\n",
       "      <td>0.0</td>\n",
       "      <td>0</td>\n",
       "      <td>0</td>\n",
       "      <td>7.5000</td>\n",
       "    </tr>\n",
       "    <tr>\n",
       "      <th>101398</th>\n",
       "      <td>27</td>\n",
       "      <td>24</td>\n",
       "      <td>26.0</td>\n",
       "      <td>12</td>\n",
       "      <td>1</td>\n",
       "      <td>0</td>\n",
       "      <td>0</td>\n",
       "      <td>9</td>\n",
       "      <td>41.0</td>\n",
       "      <td>0.0</td>\n",
       "      <td>0</td>\n",
       "      <td>0</td>\n",
       "      <td>7.6250</td>\n",
       "    </tr>\n",
       "    <tr>\n",
       "      <th>101399</th>\n",
       "      <td>20</td>\n",
       "      <td>17</td>\n",
       "      <td>31.0</td>\n",
       "      <td>15</td>\n",
       "      <td>1</td>\n",
       "      <td>0</td>\n",
       "      <td>0</td>\n",
       "      <td>9</td>\n",
       "      <td>39.0</td>\n",
       "      <td>0.0</td>\n",
       "      <td>0</td>\n",
       "      <td>0</td>\n",
       "      <td>6.2500</td>\n",
       "    </tr>\n",
       "  </tbody>\n",
       "</table>\n",
       "<p>101400 rows × 13 columns</p>\n",
       "</div>"
      ],
      "text/plain": [
       "        FAGE  MAGE  GAINED  VISITS  TOTALP  BDEAD  TERMS  LOUTCOME  WEEKS  \\\n",
       "0         33    34    26.0      10       2      0      0         1   35.0   \n",
       "1         19    18    40.0      10       1      0      0         9   41.0   \n",
       "2         33    31    16.0      14       2      0      0         1   39.0   \n",
       "3         25    28    40.0      15       3      0      0         1   38.0   \n",
       "4         21    20    60.0      13       2      0      0         1   40.0   \n",
       "...      ...   ...     ...     ...     ...    ...    ...       ...    ...   \n",
       "101395    36    34     0.0       9       4      0      2         1   42.0   \n",
       "101396    21    19    39.0      11       2      0      0         1   36.0   \n",
       "101397    27    22    37.0      15       2      0      0         1   39.0   \n",
       "101398    27    24    26.0      12       1      0      0         9   41.0   \n",
       "101399    20    17    31.0      15       1      0      0         9   39.0   \n",
       "\n",
       "        CIGNUM  DRINKNUM  UTERINE  BWEIGHT  \n",
       "0          0.0         0        0   4.3750  \n",
       "1          0.0         0        0   6.9375  \n",
       "2          0.0         0        0   8.5000  \n",
       "3          0.0         0        0   8.5000  \n",
       "4          0.0         0        0   9.0000  \n",
       "...        ...       ...      ...      ...  \n",
       "101395     0.0         0        0   9.1250  \n",
       "101396     5.0         0        0   7.3750  \n",
       "101397     0.0         0        0   7.5000  \n",
       "101398     0.0         0        0   7.6250  \n",
       "101399     0.0         0        0   6.2500  \n",
       "\n",
       "[101400 rows x 13 columns]"
      ]
     },
     "execution_count": 17,
     "metadata": {},
     "output_type": "execute_result"
    }
   ],
   "source": [
    "df"
   ]
  },
  {
   "cell_type": "markdown",
   "metadata": {
    "colab_type": "text",
    "id": "crrFiBFiSBKm"
   },
   "source": [
    "##Preprocessing"
   ]
  },
  {
   "cell_type": "markdown",
   "metadata": {
    "colab_type": "text",
    "id": "BMscPX_kSGi0"
   },
   "source": [
    "### Filling Empty Values With Mean"
   ]
  },
  {
   "cell_type": "code",
   "execution_count": 18,
   "metadata": {
    "colab": {},
    "colab_type": "code",
    "id": "wOtumEE7wZGa"
   },
   "outputs": [],
   "source": [
    "df = df.fillna(df.mean())"
   ]
  },
  {
   "cell_type": "markdown",
   "metadata": {
    "colab_type": "text",
    "id": "yl0n3RLpSUY3"
   },
   "source": [
    "##Train and Test Split"
   ]
  },
  {
   "cell_type": "code",
   "execution_count": 19,
   "metadata": {
    "colab": {},
    "colab_type": "code",
    "id": "gGelSEtavZ_U"
   },
   "outputs": [],
   "source": [
    "from sklearn.model_selection import train_test_split"
   ]
  },
  {
   "cell_type": "code",
   "execution_count": 20,
   "metadata": {},
   "outputs": [],
   "source": [
    "a=df"
   ]
  },
  {
   "cell_type": "code",
   "execution_count": 21,
   "metadata": {},
   "outputs": [
    {
     "data": {
      "text/plain": [
       "Index(['FAGE', 'MAGE', 'GAINED', 'VISITS', 'TOTALP', 'BDEAD', 'TERMS',\n",
       "       'LOUTCOME', 'WEEKS', 'CIGNUM', 'DRINKNUM', 'UTERINE', 'BWEIGHT'],\n",
       "      dtype='object')"
      ]
     },
     "execution_count": 21,
     "metadata": {},
     "output_type": "execute_result"
    }
   ],
   "source": [
    "df.columns"
   ]
  },
  {
   "cell_type": "code",
   "execution_count": 22,
   "metadata": {
    "colab": {
     "base_uri": "https://localhost:8080/",
     "height": 982
    },
    "colab_type": "code",
    "id": "qWb477Osxmw1",
    "outputId": "b8b46b4e-717a-4d6f-e1c1-f754765ecc64"
   },
   "outputs": [],
   "source": [
    "b = df['BWEIGHT']\n",
    "#a = df.drop('Yield', axis = 1)\n",
    "\n"
   ]
  },
  {
   "cell_type": "code",
   "execution_count": null,
   "metadata": {},
   "outputs": [],
   "source": []
  },
  {
   "cell_type": "code",
   "execution_count": null,
   "metadata": {},
   "outputs": [],
   "source": []
  },
  {
   "cell_type": "code",
   "execution_count": 23,
   "metadata": {},
   "outputs": [],
   "source": [
    "a=df.drop('BWEIGHT', axis = 1)"
   ]
  },
  {
   "cell_type": "code",
   "execution_count": 24,
   "metadata": {},
   "outputs": [
    {
     "data": {
      "text/plain": [
       "12"
      ]
     },
     "execution_count": 24,
     "metadata": {},
     "output_type": "execute_result"
    }
   ],
   "source": [
    "len(a.columns)"
   ]
  },
  {
   "cell_type": "code",
   "execution_count": 25,
   "metadata": {},
   "outputs": [
    {
     "data": {
      "text/plain": [
       "Index(['FAGE', 'MAGE', 'GAINED', 'VISITS', 'TOTALP', 'BDEAD', 'TERMS',\n",
       "       'LOUTCOME', 'WEEKS', 'CIGNUM', 'DRINKNUM', 'UTERINE'],\n",
       "      dtype='object')"
      ]
     },
     "execution_count": 25,
     "metadata": {},
     "output_type": "execute_result"
    }
   ],
   "source": [
    "a.columns"
   ]
  },
  {
   "cell_type": "code",
   "execution_count": 26,
   "metadata": {},
   "outputs": [],
   "source": [
    "features_list=['FAGE', 'MAGE', 'GAINED', 'VISITS', 'TOTALP', 'BDEAD', 'TERMS',\n",
    "       'LOUTCOME', 'WEEKS', 'CIGNUM', 'DRINKNUM', 'UTERINE']"
   ]
  },
  {
   "cell_type": "code",
   "execution_count": 27,
   "metadata": {},
   "outputs": [
    {
     "data": {
      "text/plain": [
       "12"
      ]
     },
     "execution_count": 27,
     "metadata": {},
     "output_type": "execute_result"
    }
   ],
   "source": [
    "len(features_list)"
   ]
  },
  {
   "cell_type": "code",
   "execution_count": 29,
   "metadata": {},
   "outputs": [
    {
     "data": {
      "text/plain": [
       "12"
      ]
     },
     "execution_count": 29,
     "metadata": {},
     "output_type": "execute_result"
    }
   ],
   "source": [
    "features_list123=[0, 0, 0, 0, 0, 0, 0, 0, 0, 0, 0, 0]\n",
    "\n",
    "len(features_list123)"
   ]
  },
  {
   "cell_type": "code",
   "execution_count": 30,
   "metadata": {},
   "outputs": [
    {
     "data": {
      "text/plain": [
       "12"
      ]
     },
     "execution_count": 30,
     "metadata": {},
     "output_type": "execute_result"
    }
   ],
   "source": [
    "len(features_list)"
   ]
  },
  {
   "cell_type": "code",
   "execution_count": 31,
   "metadata": {},
   "outputs": [],
   "source": [
    "a=df[features_list]"
   ]
  },
  {
   "cell_type": "code",
   "execution_count": 32,
   "metadata": {},
   "outputs": [
    {
     "data": {
      "text/html": [
       "<div>\n",
       "<style scoped>\n",
       "    .dataframe tbody tr th:only-of-type {\n",
       "        vertical-align: middle;\n",
       "    }\n",
       "\n",
       "    .dataframe tbody tr th {\n",
       "        vertical-align: top;\n",
       "    }\n",
       "\n",
       "    .dataframe thead th {\n",
       "        text-align: right;\n",
       "    }\n",
       "</style>\n",
       "<table border=\"1\" class=\"dataframe\">\n",
       "  <thead>\n",
       "    <tr style=\"text-align: right;\">\n",
       "      <th></th>\n",
       "      <th>FAGE</th>\n",
       "      <th>MAGE</th>\n",
       "      <th>GAINED</th>\n",
       "      <th>VISITS</th>\n",
       "      <th>TOTALP</th>\n",
       "      <th>BDEAD</th>\n",
       "      <th>TERMS</th>\n",
       "      <th>LOUTCOME</th>\n",
       "      <th>WEEKS</th>\n",
       "      <th>CIGNUM</th>\n",
       "      <th>DRINKNUM</th>\n",
       "      <th>UTERINE</th>\n",
       "    </tr>\n",
       "  </thead>\n",
       "  <tbody>\n",
       "    <tr>\n",
       "      <th>0</th>\n",
       "      <td>33</td>\n",
       "      <td>34</td>\n",
       "      <td>26.0</td>\n",
       "      <td>10</td>\n",
       "      <td>2</td>\n",
       "      <td>0</td>\n",
       "      <td>0</td>\n",
       "      <td>1</td>\n",
       "      <td>35.0</td>\n",
       "      <td>0.0</td>\n",
       "      <td>0</td>\n",
       "      <td>0</td>\n",
       "    </tr>\n",
       "    <tr>\n",
       "      <th>1</th>\n",
       "      <td>19</td>\n",
       "      <td>18</td>\n",
       "      <td>40.0</td>\n",
       "      <td>10</td>\n",
       "      <td>1</td>\n",
       "      <td>0</td>\n",
       "      <td>0</td>\n",
       "      <td>9</td>\n",
       "      <td>41.0</td>\n",
       "      <td>0.0</td>\n",
       "      <td>0</td>\n",
       "      <td>0</td>\n",
       "    </tr>\n",
       "    <tr>\n",
       "      <th>2</th>\n",
       "      <td>33</td>\n",
       "      <td>31</td>\n",
       "      <td>16.0</td>\n",
       "      <td>14</td>\n",
       "      <td>2</td>\n",
       "      <td>0</td>\n",
       "      <td>0</td>\n",
       "      <td>1</td>\n",
       "      <td>39.0</td>\n",
       "      <td>0.0</td>\n",
       "      <td>0</td>\n",
       "      <td>0</td>\n",
       "    </tr>\n",
       "    <tr>\n",
       "      <th>3</th>\n",
       "      <td>25</td>\n",
       "      <td>28</td>\n",
       "      <td>40.0</td>\n",
       "      <td>15</td>\n",
       "      <td>3</td>\n",
       "      <td>0</td>\n",
       "      <td>0</td>\n",
       "      <td>1</td>\n",
       "      <td>38.0</td>\n",
       "      <td>0.0</td>\n",
       "      <td>0</td>\n",
       "      <td>0</td>\n",
       "    </tr>\n",
       "    <tr>\n",
       "      <th>4</th>\n",
       "      <td>21</td>\n",
       "      <td>20</td>\n",
       "      <td>60.0</td>\n",
       "      <td>13</td>\n",
       "      <td>2</td>\n",
       "      <td>0</td>\n",
       "      <td>0</td>\n",
       "      <td>1</td>\n",
       "      <td>40.0</td>\n",
       "      <td>0.0</td>\n",
       "      <td>0</td>\n",
       "      <td>0</td>\n",
       "    </tr>\n",
       "  </tbody>\n",
       "</table>\n",
       "</div>"
      ],
      "text/plain": [
       "   FAGE  MAGE  GAINED  VISITS  TOTALP  BDEAD  TERMS  LOUTCOME  WEEKS  CIGNUM  \\\n",
       "0    33    34    26.0      10       2      0      0         1   35.0     0.0   \n",
       "1    19    18    40.0      10       1      0      0         9   41.0     0.0   \n",
       "2    33    31    16.0      14       2      0      0         1   39.0     0.0   \n",
       "3    25    28    40.0      15       3      0      0         1   38.0     0.0   \n",
       "4    21    20    60.0      13       2      0      0         1   40.0     0.0   \n",
       "\n",
       "   DRINKNUM  UTERINE  \n",
       "0         0        0  \n",
       "1         0        0  \n",
       "2         0        0  \n",
       "3         0        0  \n",
       "4         0        0  "
      ]
     },
     "execution_count": 32,
     "metadata": {},
     "output_type": "execute_result"
    }
   ],
   "source": [
    "a.head()"
   ]
  },
  {
   "cell_type": "code",
   "execution_count": 33,
   "metadata": {},
   "outputs": [
    {
     "name": "stdout",
     "output_type": "stream",
     "text": [
      "       FAGE  MAGE  GAINED  VISITS  TOTALP  BDEAD  TERMS  LOUTCOME  WEEKS  \\\n",
      "3429     34    29    40.0       9       5      0      1         2   38.0   \n",
      "71263    36    33    20.0      13       4      0      0         1   35.0   \n",
      "1213     32    25    21.0      13       2      0      1         2   40.0   \n",
      "71950    38    36    25.0      14       3      0      0         1   39.0   \n",
      "58113    23    19    25.0      20       1      0      0         9   40.0   \n",
      "...     ...   ...     ...     ...     ...    ...    ...       ...    ...   \n",
      "6265     34    36    40.0      14       4      0      3         2   39.0   \n",
      "54886    25    25    37.0      13       2      0      0         1   43.0   \n",
      "76820    30    26    35.0      15       1      0      0         9   40.0   \n",
      "860      33    33    21.0      12       3      0      0         1   39.0   \n",
      "15795    21    19    25.0      12       1      0      0         9   36.0   \n",
      "\n",
      "       CIGNUM  DRINKNUM  UTERINE  \n",
      "3429      0.0         0        0  \n",
      "71263     0.0         0        0  \n",
      "1213      0.0         0        0  \n",
      "71950     0.0         0        0  \n",
      "58113     0.0         0        0  \n",
      "...       ...       ...      ...  \n",
      "6265      0.0         0        0  \n",
      "54886     0.0         0        0  \n",
      "76820     0.0         0        0  \n",
      "860       0.0         0        0  \n",
      "15795     0.0         0        0  \n",
      "\n",
      "[70980 rows x 12 columns]\n",
      "       FAGE  MAGE  GAINED  VISITS  TOTALP  BDEAD  TERMS  LOUTCOME  WEEKS  \\\n",
      "80763    45    33    35.0       6       5      0      0         1   38.0   \n",
      "78989    22    17    40.0       9       1      0      0         9   38.0   \n",
      "71952    30    31    30.0      13       5      0      2         1   35.0   \n",
      "96561    29    25    38.0      14       1      0      0         9   38.0   \n",
      "51212    37    27    20.0      20       2      0      0         1   40.0   \n",
      "...     ...   ...     ...     ...     ...    ...    ...       ...    ...   \n",
      "57455    25    21    38.0      10       2      0      0         1   39.0   \n",
      "77977    26    26    20.0      12       1      0      0         9   39.0   \n",
      "8363     34    29    25.0      11       2      0      0         1   39.0   \n",
      "98455    23    21     0.0      16       2      0      1         2   38.0   \n",
      "35818    38    25    53.0      10       3      0      1         1   40.0   \n",
      "\n",
      "       CIGNUM  DRINKNUM  UTERINE  \n",
      "80763     0.0         0        0  \n",
      "78989     0.0         0        0  \n",
      "71952     5.0         0        0  \n",
      "96561     0.0         0        0  \n",
      "51212     0.0         0        0  \n",
      "...       ...       ...      ...  \n",
      "57455     0.0         0        0  \n",
      "77977     0.0         0        0  \n",
      "8363      0.0         0        0  \n",
      "98455     0.0         0        0  \n",
      "35818     0.0         0        0  \n",
      "\n",
      "[30420 rows x 12 columns]\n",
      "3429     6.6875\n",
      "71263    7.1250\n",
      "1213     7.0625\n",
      "71950    7.7500\n",
      "58113    7.0000\n",
      "          ...  \n",
      "6265     7.4375\n",
      "54886    6.1250\n",
      "76820    8.1250\n",
      "860      7.9375\n",
      "15795    5.5000\n",
      "Name: BWEIGHT, Length: 70980, dtype: float64\n",
      "80763    7.8125\n",
      "78989    7.2500\n",
      "71952    7.6250\n",
      "96561    7.1875\n",
      "51212    8.6250\n",
      "          ...  \n",
      "57455    7.4375\n",
      "77977    7.4375\n",
      "8363     5.6250\n",
      "98455    7.5625\n",
      "35818    7.3125\n",
      "Name: BWEIGHT, Length: 30420, dtype: float64\n"
     ]
    }
   ],
   "source": [
    "a_train, a_test, b_train, b_test = train_test_split(a, b, test_size = 0.3, random_state = 42)\n",
    "\n",
    "print(a_train)\n",
    "print(a_test)\n",
    "print(b_train)\n",
    "print(b_test)"
   ]
  },
  {
   "cell_type": "code",
   "execution_count": 34,
   "metadata": {
    "colab": {},
    "colab_type": "code",
    "id": "nqx2dijEzIeK"
   },
   "outputs": [],
   "source": [
    "import numpy as np  \n",
    "import matplotlib.pyplot as plt  \n",
    "import seaborn as seabornInstance \n",
    "from sklearn.linear_model import LinearRegression\n",
    "from sklearn import metrics\n",
    "%matplotlib inline"
   ]
  },
  {
   "cell_type": "code",
   "execution_count": 35,
   "metadata": {
    "colab": {},
    "colab_type": "code",
    "id": "6HHemLU20qxI"
   },
   "outputs": [],
   "source": [
    "#from sklearn.preprocessing import StandardScaler\n",
    "#sc = StandardScaler()\n",
    "#a_train = sc.fit_transform(a_train)\n",
    "#a_test = sc.transform(a_test)"
   ]
  },
  {
   "cell_type": "markdown",
   "metadata": {
    "colab_type": "text",
    "id": "BbUw1P-aiwBg"
   },
   "source": [
    "###Random Forest Regressor"
   ]
  },
  {
   "cell_type": "code",
   "execution_count": 36,
   "metadata": {
    "colab": {
     "base_uri": "https://localhost:8080/",
     "height": 73
    },
    "colab_type": "code",
    "id": "cnCF9S0K03gI",
    "outputId": "9ba85e05-91e5-4885-d097-d3a1f5492e3b"
   },
   "outputs": [
    {
     "name": "stdout",
     "output_type": "stream",
     "text": [
      "MSE = 1.2252523097093095\n",
      "MAE = 0.8647759278500464\n",
      "R2 Score = -0.276419385864457\n"
     ]
    }
   ],
   "source": [
    "   from sklearn.ensemble import RandomForestRegressor\n",
    "   regr = RandomForestRegressor(max_depth=1000, random_state=45, n_estimators=10)\n",
    "   regr.fit(a_train, b_train)\n",
    "   b_pred = regr.predict(a_test)\n",
    "\n",
    "   from sklearn.metrics import mean_squared_error as mse\n",
    "   from sklearn.metrics import mean_absolute_error as mae\n",
    "   from sklearn.metrics import r2_score\n",
    "\n",
    "   print('MSE =', mse(b_pred, b_test))\n",
    "   print('MAE =', mae(b_pred, b_test))\n",
    "   print('R2 Score =', r2_score(b_pred, b_test))"
   ]
  },
  {
   "cell_type": "code",
   "execution_count": null,
   "metadata": {},
   "outputs": [],
   "source": []
  },
  {
   "cell_type": "code",
   "execution_count": null,
   "metadata": {},
   "outputs": [],
   "source": []
  },
  {
   "cell_type": "markdown",
   "metadata": {
    "colab_type": "text",
    "id": "9z-PKTBBirP1"
   },
   "source": [
    "###Polynomial Support Vector Machine"
   ]
  },
  {
   "cell_type": "code",
   "execution_count": null,
   "metadata": {
    "colab": {
     "base_uri": "https://localhost:8080/",
     "height": 111
    },
    "colab_type": "code",
    "id": "zURtx4kAPLTr",
    "outputId": "75a85738-343e-4859-93ce-89cbf8e7349b"
   },
   "outputs": [],
   "source": [
    "from sklearn.svm import SVR\n",
    "regressorpoly=SVR(kernel='poly',epsilon=1.0)\n",
    "regressorpoly.fit(a_train,b_train)\n",
    "pred=regressorpoly.predict(a_test)\n",
    "print(regressorpoly.score(a_test,b_test))\n",
    "print(r2_score(b_test,b_pred))"
   ]
  },
  {
   "cell_type": "markdown",
   "metadata": {
    "colab_type": "text",
    "id": "fGc_78_him91"
   },
   "source": [
    "###XGBRegressor"
   ]
  },
  {
   "cell_type": "code",
   "execution_count": 37,
   "metadata": {
    "colab": {
     "base_uri": "https://localhost:8080/",
     "height": 148
    },
    "colab_type": "code",
    "id": "qZAULbjvigKN",
    "outputId": "5297980f-a6b6-43f8-df12-5bd953d23ba5"
   },
   "outputs": [
    {
     "name": "stdout",
     "output_type": "stream",
     "text": [
      "XGBoost validation MAE =  0.7969856704640974\n"
     ]
    },
    {
     "data": {
      "text/plain": [
       "array([7.673668 , 7.074065 , 5.75353  , ..., 7.5324807, 6.671281 ,\n",
       "       7.93726  ], dtype=float32)"
      ]
     },
     "execution_count": 37,
     "metadata": {},
     "output_type": "execute_result"
    }
   ],
   "source": [
    "from xgboost import XGBRegressor\n",
    "from sklearn.metrics import mean_absolute_error \n",
    "XGBModel = XGBRegressor()\n",
    "XGBModel.fit(a_train,b_train , verbose=False)\n",
    "\n",
    "# Get the mean absolute error on the validation data :\n",
    "XGBpredictions = XGBModel.predict(a_test)\n",
    "MAE = mean_absolute_error(b_test , XGBpredictions)\n",
    "print('XGBoost validation MAE = ',MAE)\n",
    "XGBpredictions"
   ]
  },
  {
   "cell_type": "code",
   "execution_count": 39,
   "metadata": {},
   "outputs": [
    {
     "name": "stdout",
     "output_type": "stream",
     "text": [
      "0.40991418090271625\n"
     ]
    }
   ],
   "source": [
    "\n",
    "print(r2_score(b_test , XGBpredictions))"
   ]
  },
  {
   "cell_type": "code",
   "execution_count": null,
   "metadata": {},
   "outputs": [],
   "source": []
  },
  {
   "cell_type": "code",
   "execution_count": null,
   "metadata": {},
   "outputs": [],
   "source": []
  },
  {
   "cell_type": "code",
   "execution_count": 49,
   "metadata": {},
   "outputs": [],
   "source": [
    "import joblib  #XGBModel\n",
    " \n",
    "# Save the model as a pickle in a file\n",
    "joblib.dump(XGBModel, 'xgboost_yield_prediction_final.pkl')\n",
    " \n",
    "# Load the model from the file\n",
    "knn_from_joblib = joblib.load('xgboost_yield_prediction_final.pkl')\n",
    " \n",
    "# Use the loaded model to make predictions\n"
   ]
  },
  {
   "cell_type": "code",
   "execution_count": 50,
   "metadata": {},
   "outputs": [
    {
     "data": {
      "text/plain": [
       "80763    7.8125\n",
       "78989    7.2500\n",
       "71952    7.6250\n",
       "96561    7.1875\n",
       "51212    8.6250\n",
       "1384     6.8750\n",
       "36891    6.5000\n",
       "11175    8.1875\n",
       "38003    7.4375\n",
       "83876    9.5000\n",
       "Name: BWEIGHT, dtype: float64"
      ]
     },
     "execution_count": 50,
     "metadata": {},
     "output_type": "execute_result"
    }
   ],
   "source": [
    "b_test[0:10]"
   ]
  },
  {
   "cell_type": "code",
   "execution_count": 51,
   "metadata": {},
   "outputs": [
    {
     "data": {
      "text/plain": [
       "array([7.673668 , 7.074065 , 5.75353  , ..., 7.5324807, 6.671281 ,\n",
       "       7.93726  ], dtype=float32)"
      ]
     },
     "execution_count": 51,
     "metadata": {},
     "output_type": "execute_result"
    }
   ],
   "source": [
    "XGBpredictions"
   ]
  },
  {
   "cell_type": "code",
   "execution_count": 48,
   "metadata": {},
   "outputs": [
    {
     "data": {
      "text/plain": [
       "array([[45., 33., 35.,  6.,  5.,  0.,  0.,  1., 38.,  0.,  0.,  0.]])"
      ]
     },
     "execution_count": 48,
     "metadata": {},
     "output_type": "execute_result"
    }
   ],
   "source": [
    "a_test[0:1].values"
   ]
  },
  {
   "cell_type": "code",
   "execution_count": 54,
   "metadata": {},
   "outputs": [
    {
     "name": "stdout",
     "output_type": "stream",
     "text": [
      "[7.0078564]\n"
     ]
    }
   ],
   "source": [
    "# Create a list of new data points\n",
    "new_data = [[45., 33., 35.,  6.,  5.,  0.,  0.,  1., 38.,  0.,  0.,  0.]]\n",
    "\n",
    "new_data =[[23.0, 21.0, 23.0, 6.0, 5.0, 1.0, 0.0, 1.0, 3.0, 0.0, 0.0, 0.0]]\n",
    "\n",
    "# Convert the list of data points to a numpy array\n",
    "new_data_np = np.array(new_data)\n",
    "\n",
    "# Use the XGBoost model to make predictions on the new data\n",
    "predictions = XGBModel.predict((new_data_np))\n",
    "\n",
    "print(predictions)"
   ]
  },
  {
   "cell_type": "code",
   "execution_count": null,
   "metadata": {},
   "outputs": [],
   "source": []
  }
 ],
 "metadata": {
  "accelerator": "GPU",
  "colab": {
   "collapsed_sections": [],
   "name": "FinalBennetProject.ipynb",
   "provenance": [],
   "toc_visible": true
  },
  "kernelspec": {
   "display_name": "agri",
   "language": "python",
   "name": "agri"
  },
  "language_info": {
   "codemirror_mode": {
    "name": "ipython",
    "version": 3
   },
   "file_extension": ".py",
   "mimetype": "text/x-python",
   "name": "python",
   "nbconvert_exporter": "python",
   "pygments_lexer": "ipython3",
   "version": "3.7.11"
  }
 },
 "nbformat": 4,
 "nbformat_minor": 1
}
