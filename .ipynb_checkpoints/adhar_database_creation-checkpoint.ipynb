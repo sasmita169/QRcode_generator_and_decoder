{
 "cells": [
  {
   "cell_type": "code",
   "execution_count": 2,
   "id": "b60798c2",
   "metadata": {},
   "outputs": [
    {
     "name": "stdout",
     "output_type": "stream",
     "text": [
      "Aadhar numbers generated and saved to 'adhar_database.csv'.\n"
     ]
    }
   ],
   "source": [
    "import pandas as pd\n",
    "import random\n",
    "\n",
    "# Function to generate a random 11-digit number\n",
    "def generate_random_number():\n",
    "    return ''.join([str(random.randint(0, 9)) for _ in range(11)])\n",
    "\n",
    "# Function to generate a random 12-digit Aadhar number starting with 4, 5, 6, or 9\n",
    "def generate_aadhar_number():\n",
    "    first_digit = str(random.choice([4, 5, 6, 9]))\n",
    "    rest_of_number = generate_random_number()\n",
    "    return first_digit + rest_of_number\n",
    "\n",
    "# Generate 20,000 Aadhar numbers\n",
    "aadhar_numbers = [generate_aadhar_number() for _ in range(20000)]\n",
    "\n",
    "# Create a DataFrame\n",
    "aadhar_df = pd.DataFrame({'Adhar_numbers': aadhar_numbers})\n",
    "\n",
    "# Save the DataFrame to a CSV file\n",
    "aadhar_df.to_csv('adhar_database.csv', index=False)\n",
    "\n",
    "print(\"Aadhar numbers generated and saved to 'adhar_database.csv'.\")\n"
   ]
  },
  {
   "cell_type": "code",
   "execution_count": 6,
   "id": "a850e1ac",
   "metadata": {},
   "outputs": [
    {
     "name": "stdout",
     "output_type": "stream",
     "text": [
      "   adhar_number   otp  voted\n",
      "0  123456789012  None  False\n"
     ]
    }
   ],
   "source": [
    "import pandas as pd\n",
    "\n",
    "# Create an empty DataFrame with the desired columns\n",
    "df = pd.DataFrame(columns=['adhar_number', 'otp', 'voted'])\n",
    "\n",
    "# Define your new Aadhar card number\n",
    "new_adhar_number = '123456789012'\n",
    "\n",
    "# Append the new Aadhar card number to the DataFrame\n",
    "df = df.append({'adhar_number': new_adhar_number, 'otp': None, 'voted': None}, ignore_index=True)\n",
    "\n",
    "# Display the updated DataFrame\n",
    "print(df)\n",
    "df.to_csv(\"voting_data.csv\")"
   ]
  },
  {
   "cell_type": "code",
   "execution_count": 13,
   "id": "02b2c7a0",
   "metadata": {},
   "outputs": [],
   "source": [
    "import pandas as pd\n",
    "\n",
    "# Load the CSV file into a DataFrame\n",
    "df = pd.read_csv('voting_data.csv')\n",
    "\n",
    "# Update the DataFrame with a new Aadhar card number\n",
    "new_adhar_number = '987654321098'\n",
    "df = df.append({'adhar_number': new_adhar_number, 'otp': None, 'voted': None}, ignore_index=True)\n",
    "\n",
    "# Save the updated DataFrame back to the CSV file\n",
    "df.to_csv('voting_data.csv', index=False)\n"
   ]
  },
  {
   "cell_type": "code",
   "execution_count": 14,
   "id": "50a605a8",
   "metadata": {},
   "outputs": [
    {
     "data": {
      "text/html": [
       "<div>\n",
       "<style scoped>\n",
       "    .dataframe tbody tr th:only-of-type {\n",
       "        vertical-align: middle;\n",
       "    }\n",
       "\n",
       "    .dataframe tbody tr th {\n",
       "        vertical-align: top;\n",
       "    }\n",
       "\n",
       "    .dataframe thead th {\n",
       "        text-align: right;\n",
       "    }\n",
       "</style>\n",
       "<table border=\"1\" class=\"dataframe\">\n",
       "  <thead>\n",
       "    <tr style=\"text-align: right;\">\n",
       "      <th></th>\n",
       "      <th>Unnamed: 0</th>\n",
       "      <th>adhar_number</th>\n",
       "      <th>otp</th>\n",
       "      <th>voted</th>\n",
       "    </tr>\n",
       "  </thead>\n",
       "  <tbody>\n",
       "    <tr>\n",
       "      <th>0</th>\n",
       "      <td>0.0</td>\n",
       "      <td>123456789012</td>\n",
       "      <td>NaN</td>\n",
       "      <td>False</td>\n",
       "    </tr>\n",
       "    <tr>\n",
       "      <th>1</th>\n",
       "      <td>NaN</td>\n",
       "      <td>987654321098</td>\n",
       "      <td>NaN</td>\n",
       "      <td>False</td>\n",
       "    </tr>\n",
       "    <tr>\n",
       "      <th>2</th>\n",
       "      <td>NaN</td>\n",
       "      <td>987654321098</td>\n",
       "      <td>NaN</td>\n",
       "      <td>False</td>\n",
       "    </tr>\n",
       "    <tr>\n",
       "      <th>3</th>\n",
       "      <td>NaN</td>\n",
       "      <td>987654321098</td>\n",
       "      <td>NaN</td>\n",
       "      <td>NaN</td>\n",
       "    </tr>\n",
       "    <tr>\n",
       "      <th>4</th>\n",
       "      <td>NaN</td>\n",
       "      <td>987654321098</td>\n",
       "      <td>NaN</td>\n",
       "      <td>None</td>\n",
       "    </tr>\n",
       "  </tbody>\n",
       "</table>\n",
       "</div>"
      ],
      "text/plain": [
       "   Unnamed: 0  adhar_number  otp  voted\n",
       "0         0.0  123456789012  NaN  False\n",
       "1         NaN  987654321098  NaN  False\n",
       "2         NaN  987654321098  NaN  False\n",
       "3         NaN  987654321098  NaN    NaN\n",
       "4         NaN  987654321098  NaN   None"
      ]
     },
     "execution_count": 14,
     "metadata": {},
     "output_type": "execute_result"
    }
   ],
   "source": [
    "df"
   ]
  },
  {
   "cell_type": "code",
   "execution_count": null,
   "id": "64637f13",
   "metadata": {},
   "outputs": [],
   "source": []
  }
 ],
 "metadata": {
  "kernelspec": {
   "display_name": "agri",
   "language": "python",
   "name": "agri"
  },
  "language_info": {
   "codemirror_mode": {
    "name": "ipython",
    "version": 3
   },
   "file_extension": ".py",
   "mimetype": "text/x-python",
   "name": "python",
   "nbconvert_exporter": "python",
   "pygments_lexer": "ipython3",
   "version": "3.7.11"
  }
 },
 "nbformat": 4,
 "nbformat_minor": 5
}
